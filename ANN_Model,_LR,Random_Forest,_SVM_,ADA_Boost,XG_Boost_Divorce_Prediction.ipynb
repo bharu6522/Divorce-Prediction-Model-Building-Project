{
  "nbformat": 4,
  "nbformat_minor": 0,
  "metadata": {
    "colab": {
      "provenance": []
    },
    "kernelspec": {
      "name": "python3",
      "display_name": "Python 3"
    },
    "language_info": {
      "name": "python"
    },
    "accelerator": "GPU",
    "gpuClass": "standard"
  },
  "cells": [
    {
      "cell_type": "markdown",
      "source": [
        "# Machine Learning Model Evaluations and Predictions"
      ],
      "metadata": {
        "id": "t3Fr6hbykgNf"
      }
    },
    {
      "cell_type": "markdown",
      "source": [
        "ANN Model"
      ],
      "metadata": {
        "id": "sd42KO8LrLKQ"
      }
    },
    {
      "cell_type": "code",
      "source": [
        "df = df_norm"
      ],
      "metadata": {
        "id": "kxDldm6cJCyK"
      },
      "execution_count": null,
      "outputs": []
    },
    {
      "cell_type": "code",
      "source": [
        "# independent and dependent variables\n",
        "x = df.drop('Divorce',axis=1)\n",
        "y = df['Divorce']"
      ],
      "metadata": {
        "id": "f-Cx3XsJLV0h"
      },
      "execution_count": null,
      "outputs": []
    },
    {
      "cell_type": "code",
      "source": [
        "from sklearn.model_selection import train_test_split\n",
        "xtrain,xtest,ytrain,ytest = train_test_split(x,y,test_size=0.2,random_state=10)\n",
        "print(xtrain.shape)\n",
        "print(xtest.shape)"
      ],
      "metadata": {
        "colab": {
          "base_uri": "https://localhost:8080/"
        },
        "id": "06CTCyNULPMk",
        "outputId": "c43fe65e-60ae-4b7f-c249-2961f66c474c"
      },
      "execution_count": null,
      "outputs": [
        {
          "output_type": "stream",
          "name": "stdout",
          "text": [
            "(80, 29)\n",
            "(20, 29)\n"
          ]
        }
      ]
    },
    {
      "cell_type": "code",
      "source": [
        "# import tensorflow\n",
        "import tensorflow as tf\n",
        "#import keras \n",
        "from tensorflow import keras"
      ],
      "metadata": {
        "id": "ssxsIR73LSvC"
      },
      "execution_count": null,
      "outputs": []
    },
    {
      "cell_type": "code",
      "source": [
        "# define sequential model\n",
        "model = keras.Sequential([\n",
        "    # input layer\n",
        "    keras.layers.Dense(19, input_shape=(29,), activation='relu'),\n",
        "    keras.layers.Dense(15, activation='relu'),\n",
        "    keras.layers.Dense(10,activation = 'relu'),\n",
        "    # we use sigmoid for binary output\n",
        "    # output layer\n",
        "    keras.layers.Dense(1, activation='sigmoid')\n",
        "]\n",
        ")"
      ],
      "metadata": {
        "id": "LXmxcAORLhjn"
      },
      "execution_count": null,
      "outputs": []
    },
    {
      "cell_type": "code",
      "source": [
        "# time for compilation of neural net.\n",
        "model.compile(optimizer = 'adam',\n",
        "             loss = 'binary_crossentropy',\n",
        "             metrics = ['accuracy'])\n",
        "# now we fit our model to training data\n",
        "model.fit(xtrain,ytrain,epochs=100)"
      ],
      "metadata": {
        "colab": {
          "base_uri": "https://localhost:8080/"
        },
        "id": "D1OaX9-oLjVO",
        "outputId": "533317e1-609b-4360-f692-10087fa45727"
      },
      "execution_count": null,
      "outputs": [
        {
          "output_type": "stream",
          "name": "stdout",
          "text": [
            "Epoch 1/100\n",
            "3/3 [==============================] - 3s 8ms/step - loss: 0.6984 - accuracy: 0.4625\n",
            "Epoch 2/100\n",
            "3/3 [==============================] - 0s 5ms/step - loss: 0.6948 - accuracy: 0.4875\n",
            "Epoch 3/100\n",
            "3/3 [==============================] - 0s 5ms/step - loss: 0.6923 - accuracy: 0.4625\n",
            "Epoch 4/100\n",
            "3/3 [==============================] - 0s 5ms/step - loss: 0.6912 - accuracy: 0.4875\n",
            "Epoch 5/100\n",
            "3/3 [==============================] - 0s 5ms/step - loss: 0.6894 - accuracy: 0.5250\n",
            "Epoch 6/100\n",
            "3/3 [==============================] - 0s 5ms/step - loss: 0.6881 - accuracy: 0.5625\n",
            "Epoch 7/100\n",
            "3/3 [==============================] - 0s 5ms/step - loss: 0.6867 - accuracy: 0.6125\n",
            "Epoch 8/100\n",
            "3/3 [==============================] - 0s 5ms/step - loss: 0.6860 - accuracy: 0.6000\n",
            "Epoch 9/100\n",
            "3/3 [==============================] - 0s 5ms/step - loss: 0.6845 - accuracy: 0.6000\n",
            "Epoch 10/100\n",
            "3/3 [==============================] - 0s 5ms/step - loss: 0.6834 - accuracy: 0.6375\n",
            "Epoch 11/100\n",
            "3/3 [==============================] - 0s 4ms/step - loss: 0.6822 - accuracy: 0.6375\n",
            "Epoch 12/100\n",
            "3/3 [==============================] - 0s 4ms/step - loss: 0.6812 - accuracy: 0.6625\n",
            "Epoch 13/100\n",
            "3/3 [==============================] - 0s 5ms/step - loss: 0.6801 - accuracy: 0.6625\n",
            "Epoch 14/100\n",
            "3/3 [==============================] - 0s 5ms/step - loss: 0.6787 - accuracy: 0.6625\n",
            "Epoch 15/100\n",
            "3/3 [==============================] - 0s 4ms/step - loss: 0.6774 - accuracy: 0.6750\n",
            "Epoch 16/100\n",
            "3/3 [==============================] - 0s 5ms/step - loss: 0.6757 - accuracy: 0.6875\n",
            "Epoch 17/100\n",
            "3/3 [==============================] - 0s 5ms/step - loss: 0.6739 - accuracy: 0.7000\n",
            "Epoch 18/100\n",
            "3/3 [==============================] - 0s 4ms/step - loss: 0.6725 - accuracy: 0.7125\n",
            "Epoch 19/100\n",
            "3/3 [==============================] - 0s 4ms/step - loss: 0.6710 - accuracy: 0.7125\n",
            "Epoch 20/100\n",
            "3/3 [==============================] - 0s 6ms/step - loss: 0.6693 - accuracy: 0.7250\n",
            "Epoch 21/100\n",
            "3/3 [==============================] - 0s 7ms/step - loss: 0.6676 - accuracy: 0.7250\n",
            "Epoch 22/100\n",
            "3/3 [==============================] - 0s 7ms/step - loss: 0.6655 - accuracy: 0.7250\n",
            "Epoch 23/100\n",
            "3/3 [==============================] - 0s 4ms/step - loss: 0.6633 - accuracy: 0.7375\n",
            "Epoch 24/100\n",
            "3/3 [==============================] - 0s 5ms/step - loss: 0.6615 - accuracy: 0.7000\n",
            "Epoch 25/100\n",
            "3/3 [==============================] - 0s 4ms/step - loss: 0.6592 - accuracy: 0.7000\n",
            "Epoch 26/100\n",
            "3/3 [==============================] - 0s 4ms/step - loss: 0.6575 - accuracy: 0.7125\n",
            "Epoch 27/100\n",
            "3/3 [==============================] - 0s 4ms/step - loss: 0.6549 - accuracy: 0.7125\n",
            "Epoch 28/100\n",
            "3/3 [==============================] - 0s 5ms/step - loss: 0.6529 - accuracy: 0.7125\n",
            "Epoch 29/100\n",
            "3/3 [==============================] - 0s 4ms/step - loss: 0.6505 - accuracy: 0.7125\n",
            "Epoch 30/100\n",
            "3/3 [==============================] - 0s 4ms/step - loss: 0.6481 - accuracy: 0.7125\n",
            "Epoch 31/100\n",
            "3/3 [==============================] - 0s 4ms/step - loss: 0.6452 - accuracy: 0.7125\n",
            "Epoch 32/100\n",
            "3/3 [==============================] - 0s 4ms/step - loss: 0.6427 - accuracy: 0.7125\n",
            "Epoch 33/100\n",
            "3/3 [==============================] - 0s 4ms/step - loss: 0.6398 - accuracy: 0.7375\n",
            "Epoch 34/100\n",
            "3/3 [==============================] - 0s 4ms/step - loss: 0.6371 - accuracy: 0.7250\n",
            "Epoch 35/100\n",
            "3/3 [==============================] - 0s 7ms/step - loss: 0.6336 - accuracy: 0.7250\n",
            "Epoch 36/100\n",
            "3/3 [==============================] - 0s 5ms/step - loss: 0.6314 - accuracy: 0.7500\n",
            "Epoch 37/100\n",
            "3/3 [==============================] - 0s 5ms/step - loss: 0.6268 - accuracy: 0.7625\n",
            "Epoch 38/100\n",
            "3/3 [==============================] - 0s 4ms/step - loss: 0.6235 - accuracy: 0.7500\n",
            "Epoch 39/100\n",
            "3/3 [==============================] - 0s 5ms/step - loss: 0.6198 - accuracy: 0.7625\n",
            "Epoch 40/100\n",
            "3/3 [==============================] - 0s 4ms/step - loss: 0.6157 - accuracy: 0.7750\n",
            "Epoch 41/100\n",
            "3/3 [==============================] - 0s 4ms/step - loss: 0.6130 - accuracy: 0.7875\n",
            "Epoch 42/100\n",
            "3/3 [==============================] - 0s 4ms/step - loss: 0.6082 - accuracy: 0.7875\n",
            "Epoch 43/100\n",
            "3/3 [==============================] - 0s 5ms/step - loss: 0.6045 - accuracy: 0.7875\n",
            "Epoch 44/100\n",
            "3/3 [==============================] - 0s 4ms/step - loss: 0.6002 - accuracy: 0.7875\n",
            "Epoch 45/100\n",
            "3/3 [==============================] - 0s 5ms/step - loss: 0.5958 - accuracy: 0.7875\n",
            "Epoch 46/100\n",
            "3/3 [==============================] - 0s 5ms/step - loss: 0.5916 - accuracy: 0.7875\n",
            "Epoch 47/100\n",
            "3/3 [==============================] - 0s 4ms/step - loss: 0.5872 - accuracy: 0.7875\n",
            "Epoch 48/100\n",
            "3/3 [==============================] - 0s 4ms/step - loss: 0.5833 - accuracy: 0.7875\n",
            "Epoch 49/100\n",
            "3/3 [==============================] - 0s 5ms/step - loss: 0.5784 - accuracy: 0.7875\n",
            "Epoch 50/100\n",
            "3/3 [==============================] - 0s 5ms/step - loss: 0.5730 - accuracy: 0.8000\n",
            "Epoch 51/100\n",
            "3/3 [==============================] - 0s 5ms/step - loss: 0.5686 - accuracy: 0.8125\n",
            "Epoch 52/100\n",
            "3/3 [==============================] - 0s 4ms/step - loss: 0.5637 - accuracy: 0.8125\n",
            "Epoch 53/100\n",
            "3/3 [==============================] - 0s 4ms/step - loss: 0.5585 - accuracy: 0.8000\n",
            "Epoch 54/100\n",
            "3/3 [==============================] - 0s 4ms/step - loss: 0.5528 - accuracy: 0.8000\n",
            "Epoch 55/100\n",
            "3/3 [==============================] - 0s 5ms/step - loss: 0.5478 - accuracy: 0.8000\n",
            "Epoch 56/100\n",
            "3/3 [==============================] - 0s 4ms/step - loss: 0.5420 - accuracy: 0.8000\n",
            "Epoch 57/100\n",
            "3/3 [==============================] - 0s 4ms/step - loss: 0.5366 - accuracy: 0.8000\n",
            "Epoch 58/100\n",
            "3/3 [==============================] - 0s 4ms/step - loss: 0.5301 - accuracy: 0.8000\n",
            "Epoch 59/100\n",
            "3/3 [==============================] - 0s 4ms/step - loss: 0.5246 - accuracy: 0.8000\n",
            "Epoch 60/100\n",
            "3/3 [==============================] - 0s 4ms/step - loss: 0.5186 - accuracy: 0.8000\n",
            "Epoch 61/100\n",
            "3/3 [==============================] - 0s 4ms/step - loss: 0.5105 - accuracy: 0.8125\n",
            "Epoch 62/100\n",
            "3/3 [==============================] - 0s 4ms/step - loss: 0.5037 - accuracy: 0.8125\n",
            "Epoch 63/100\n",
            "3/3 [==============================] - 0s 4ms/step - loss: 0.4968 - accuracy: 0.8125\n",
            "Epoch 64/100\n",
            "3/3 [==============================] - 0s 5ms/step - loss: 0.4908 - accuracy: 0.8375\n",
            "Epoch 65/100\n",
            "3/3 [==============================] - 0s 5ms/step - loss: 0.4827 - accuracy: 0.8500\n",
            "Epoch 66/100\n",
            "3/3 [==============================] - 0s 4ms/step - loss: 0.4760 - accuracy: 0.8500\n",
            "Epoch 67/100\n",
            "3/3 [==============================] - 0s 6ms/step - loss: 0.4689 - accuracy: 0.8625\n",
            "Epoch 68/100\n",
            "3/3 [==============================] - 0s 4ms/step - loss: 0.4620 - accuracy: 0.8750\n",
            "Epoch 69/100\n",
            "3/3 [==============================] - 0s 4ms/step - loss: 0.4563 - accuracy: 0.8750\n",
            "Epoch 70/100\n",
            "3/3 [==============================] - 0s 7ms/step - loss: 0.4494 - accuracy: 0.8750\n",
            "Epoch 71/100\n",
            "3/3 [==============================] - 0s 5ms/step - loss: 0.4418 - accuracy: 0.8625\n",
            "Epoch 72/100\n",
            "3/3 [==============================] - 0s 5ms/step - loss: 0.4344 - accuracy: 0.8750\n",
            "Epoch 73/100\n",
            "3/3 [==============================] - 0s 4ms/step - loss: 0.4271 - accuracy: 0.8750\n",
            "Epoch 74/100\n",
            "3/3 [==============================] - 0s 4ms/step - loss: 0.4209 - accuracy: 0.8750\n",
            "Epoch 75/100\n",
            "3/3 [==============================] - 0s 4ms/step - loss: 0.4142 - accuracy: 0.8750\n",
            "Epoch 76/100\n",
            "3/3 [==============================] - 0s 5ms/step - loss: 0.4074 - accuracy: 0.8750\n",
            "Epoch 77/100\n",
            "3/3 [==============================] - 0s 5ms/step - loss: 0.4005 - accuracy: 0.8875\n",
            "Epoch 78/100\n",
            "3/3 [==============================] - 0s 5ms/step - loss: 0.3934 - accuracy: 0.8875\n",
            "Epoch 79/100\n",
            "3/3 [==============================] - 0s 5ms/step - loss: 0.3875 - accuracy: 0.8875\n",
            "Epoch 80/100\n",
            "3/3 [==============================] - 0s 4ms/step - loss: 0.3807 - accuracy: 0.8875\n",
            "Epoch 81/100\n",
            "3/3 [==============================] - 0s 5ms/step - loss: 0.3740 - accuracy: 0.9000\n",
            "Epoch 82/100\n",
            "3/3 [==============================] - 0s 4ms/step - loss: 0.3684 - accuracy: 0.8875\n",
            "Epoch 83/100\n",
            "3/3 [==============================] - 0s 5ms/step - loss: 0.3631 - accuracy: 0.8750\n",
            "Epoch 84/100\n",
            "3/3 [==============================] - 0s 5ms/step - loss: 0.3566 - accuracy: 0.8875\n",
            "Epoch 85/100\n",
            "3/3 [==============================] - 0s 4ms/step - loss: 0.3508 - accuracy: 0.8875\n",
            "Epoch 86/100\n",
            "3/3 [==============================] - 0s 4ms/step - loss: 0.3456 - accuracy: 0.8875\n",
            "Epoch 87/100\n",
            "3/3 [==============================] - 0s 5ms/step - loss: 0.3399 - accuracy: 0.8875\n",
            "Epoch 88/100\n",
            "3/3 [==============================] - 0s 5ms/step - loss: 0.3345 - accuracy: 0.8875\n",
            "Epoch 89/100\n",
            "3/3 [==============================] - 0s 5ms/step - loss: 0.3291 - accuracy: 0.9250\n",
            "Epoch 90/100\n",
            "3/3 [==============================] - 0s 5ms/step - loss: 0.3239 - accuracy: 0.9250\n",
            "Epoch 91/100\n",
            "3/3 [==============================] - 0s 5ms/step - loss: 0.3210 - accuracy: 0.9250\n",
            "Epoch 92/100\n",
            "3/3 [==============================] - 0s 4ms/step - loss: 0.3165 - accuracy: 0.9250\n",
            "Epoch 93/100\n",
            "3/3 [==============================] - 0s 5ms/step - loss: 0.3095 - accuracy: 0.9125\n",
            "Epoch 94/100\n",
            "3/3 [==============================] - 0s 5ms/step - loss: 0.3052 - accuracy: 0.9000\n",
            "Epoch 95/100\n",
            "3/3 [==============================] - 0s 5ms/step - loss: 0.3008 - accuracy: 0.9000\n",
            "Epoch 96/100\n",
            "3/3 [==============================] - 0s 5ms/step - loss: 0.2978 - accuracy: 0.9125\n",
            "Epoch 97/100\n",
            "3/3 [==============================] - 0s 5ms/step - loss: 0.2936 - accuracy: 0.9250\n",
            "Epoch 98/100\n",
            "3/3 [==============================] - 0s 5ms/step - loss: 0.2877 - accuracy: 0.9250\n",
            "Epoch 99/100\n",
            "3/3 [==============================] - 0s 5ms/step - loss: 0.2833 - accuracy: 0.9125\n",
            "Epoch 100/100\n",
            "3/3 [==============================] - 0s 5ms/step - loss: 0.2790 - accuracy: 0.9125\n"
          ]
        },
        {
          "output_type": "execute_result",
          "data": {
            "text/plain": [
              "<keras.callbacks.History at 0x7f863e40f650>"
            ]
          },
          "metadata": {},
          "execution_count": 49
        }
      ]
    },
    {
      "cell_type": "code",
      "source": [
        "# evalute the model\n",
        "model.evaluate(xtest,ytest)"
      ],
      "metadata": {
        "colab": {
          "base_uri": "https://localhost:8080/"
        },
        "id": "vtzMpWbpL0le",
        "outputId": "dae1b486-6bc7-45f1-9024-98da5cb939b8"
      },
      "execution_count": null,
      "outputs": [
        {
          "output_type": "stream",
          "name": "stdout",
          "text": [
            "1/1 [==============================] - 0s 130ms/step - loss: 1.1298 - accuracy: 0.4500\n"
          ]
        },
        {
          "output_type": "execute_result",
          "data": {
            "text/plain": [
              "[1.1297755241394043, 0.44999998807907104]"
            ]
          },
          "metadata": {},
          "execution_count": 50
        }
      ]
    },
    {
      "cell_type": "code",
      "source": [
        "# predict the churn values\n",
        "ypred = model.predict(xtest)\n",
        "print(ypred)\n",
        "# unscaling the ypred values \n",
        "ypred_lis = []\n",
        "for i in ypred:\n",
        "    if i>0.5:\n",
        "        ypred_lis.append(1)\n",
        "    else:\n",
        "        ypred_lis.append(0)\n",
        "print(ypred_lis)"
      ],
      "metadata": {
        "colab": {
          "base_uri": "https://localhost:8080/"
        },
        "id": "qsO3FRCsL4-e",
        "outputId": "71fee66e-d0dc-45c7-99a9-7e0c3eda7b93"
      },
      "execution_count": null,
      "outputs": [
        {
          "output_type": "stream",
          "name": "stdout",
          "text": [
            "1/1 [==============================] - 0s 72ms/step\n",
            "[[0.338511  ]\n",
            " [0.23674269]\n",
            " [0.17988242]\n",
            " [0.8568152 ]\n",
            " [0.8215685 ]\n",
            " [0.89315194]\n",
            " [0.58712816]\n",
            " [0.9296357 ]\n",
            " [0.05619481]\n",
            " [0.56104064]\n",
            " [0.89967763]\n",
            " [0.8580084 ]\n",
            " [0.8546694 ]\n",
            " [0.08522673]\n",
            " [0.729479  ]\n",
            " [0.89684737]\n",
            " [0.72447056]\n",
            " [0.7976243 ]\n",
            " [0.52543646]\n",
            " [0.17220588]]\n",
            "[0, 0, 0, 1, 1, 1, 1, 1, 0, 1, 1, 1, 1, 0, 1, 1, 1, 1, 1, 0]\n"
          ]
        }
      ]
    },
    {
      "cell_type": "code",
      "source": [
        "#make dataframe for comparing the orignal and predict values\n",
        "data = {'orignal_divorsed':ytest, 'predicted_divorsed':ypred_lis}\n",
        "df_check = pd.DataFrame(data)\n",
        "df_check.head(10)"
      ],
      "metadata": {
        "colab": {
          "base_uri": "https://localhost:8080/",
          "height": 363
        },
        "id": "ZRUYcqPVL51O",
        "outputId": "e813a7ff-afeb-4100-ac96-49dbf139c084"
      },
      "execution_count": null,
      "outputs": [
        {
          "output_type": "execute_result",
          "data": {
            "text/plain": [
              "    orignal_divorsed  predicted_divorsed\n",
              "19                 0                   0\n",
              "14                 1                   0\n",
              "43                 1                   0\n",
              "37                 1                   1\n",
              "66                 0                   1\n",
              "3                  0                   1\n",
              "79                 1                   1\n",
              "41                 1                   1\n",
              "38                 1                   0\n",
              "68                 0                   1"
            ],
            "text/html": [
              "\n",
              "  <div id=\"df-7cb4310b-1930-457a-ab8c-51775ad072e2\">\n",
              "    <div class=\"colab-df-container\">\n",
              "      <div>\n",
              "<style scoped>\n",
              "    .dataframe tbody tr th:only-of-type {\n",
              "        vertical-align: middle;\n",
              "    }\n",
              "\n",
              "    .dataframe tbody tr th {\n",
              "        vertical-align: top;\n",
              "    }\n",
              "\n",
              "    .dataframe thead th {\n",
              "        text-align: right;\n",
              "    }\n",
              "</style>\n",
              "<table border=\"1\" class=\"dataframe\">\n",
              "  <thead>\n",
              "    <tr style=\"text-align: right;\">\n",
              "      <th></th>\n",
              "      <th>orignal_divorsed</th>\n",
              "      <th>predicted_divorsed</th>\n",
              "    </tr>\n",
              "  </thead>\n",
              "  <tbody>\n",
              "    <tr>\n",
              "      <th>19</th>\n",
              "      <td>0</td>\n",
              "      <td>0</td>\n",
              "    </tr>\n",
              "    <tr>\n",
              "      <th>14</th>\n",
              "      <td>1</td>\n",
              "      <td>0</td>\n",
              "    </tr>\n",
              "    <tr>\n",
              "      <th>43</th>\n",
              "      <td>1</td>\n",
              "      <td>0</td>\n",
              "    </tr>\n",
              "    <tr>\n",
              "      <th>37</th>\n",
              "      <td>1</td>\n",
              "      <td>1</td>\n",
              "    </tr>\n",
              "    <tr>\n",
              "      <th>66</th>\n",
              "      <td>0</td>\n",
              "      <td>1</td>\n",
              "    </tr>\n",
              "    <tr>\n",
              "      <th>3</th>\n",
              "      <td>0</td>\n",
              "      <td>1</td>\n",
              "    </tr>\n",
              "    <tr>\n",
              "      <th>79</th>\n",
              "      <td>1</td>\n",
              "      <td>1</td>\n",
              "    </tr>\n",
              "    <tr>\n",
              "      <th>41</th>\n",
              "      <td>1</td>\n",
              "      <td>1</td>\n",
              "    </tr>\n",
              "    <tr>\n",
              "      <th>38</th>\n",
              "      <td>1</td>\n",
              "      <td>0</td>\n",
              "    </tr>\n",
              "    <tr>\n",
              "      <th>68</th>\n",
              "      <td>0</td>\n",
              "      <td>1</td>\n",
              "    </tr>\n",
              "  </tbody>\n",
              "</table>\n",
              "</div>\n",
              "      <button class=\"colab-df-convert\" onclick=\"convertToInteractive('df-7cb4310b-1930-457a-ab8c-51775ad072e2')\"\n",
              "              title=\"Convert this dataframe to an interactive table.\"\n",
              "              style=\"display:none;\">\n",
              "        \n",
              "  <svg xmlns=\"http://www.w3.org/2000/svg\" height=\"24px\"viewBox=\"0 0 24 24\"\n",
              "       width=\"24px\">\n",
              "    <path d=\"M0 0h24v24H0V0z\" fill=\"none\"/>\n",
              "    <path d=\"M18.56 5.44l.94 2.06.94-2.06 2.06-.94-2.06-.94-.94-2.06-.94 2.06-2.06.94zm-11 1L8.5 8.5l.94-2.06 2.06-.94-2.06-.94L8.5 2.5l-.94 2.06-2.06.94zm10 10l.94 2.06.94-2.06 2.06-.94-2.06-.94-.94-2.06-.94 2.06-2.06.94z\"/><path d=\"M17.41 7.96l-1.37-1.37c-.4-.4-.92-.59-1.43-.59-.52 0-1.04.2-1.43.59L10.3 9.45l-7.72 7.72c-.78.78-.78 2.05 0 2.83L4 21.41c.39.39.9.59 1.41.59.51 0 1.02-.2 1.41-.59l7.78-7.78 2.81-2.81c.8-.78.8-2.07 0-2.86zM5.41 20L4 18.59l7.72-7.72 1.47 1.35L5.41 20z\"/>\n",
              "  </svg>\n",
              "      </button>\n",
              "      \n",
              "  <style>\n",
              "    .colab-df-container {\n",
              "      display:flex;\n",
              "      flex-wrap:wrap;\n",
              "      gap: 12px;\n",
              "    }\n",
              "\n",
              "    .colab-df-convert {\n",
              "      background-color: #E8F0FE;\n",
              "      border: none;\n",
              "      border-radius: 50%;\n",
              "      cursor: pointer;\n",
              "      display: none;\n",
              "      fill: #1967D2;\n",
              "      height: 32px;\n",
              "      padding: 0 0 0 0;\n",
              "      width: 32px;\n",
              "    }\n",
              "\n",
              "    .colab-df-convert:hover {\n",
              "      background-color: #E2EBFA;\n",
              "      box-shadow: 0px 1px 2px rgba(60, 64, 67, 0.3), 0px 1px 3px 1px rgba(60, 64, 67, 0.15);\n",
              "      fill: #174EA6;\n",
              "    }\n",
              "\n",
              "    [theme=dark] .colab-df-convert {\n",
              "      background-color: #3B4455;\n",
              "      fill: #D2E3FC;\n",
              "    }\n",
              "\n",
              "    [theme=dark] .colab-df-convert:hover {\n",
              "      background-color: #434B5C;\n",
              "      box-shadow: 0px 1px 3px 1px rgba(0, 0, 0, 0.15);\n",
              "      filter: drop-shadow(0px 1px 2px rgba(0, 0, 0, 0.3));\n",
              "      fill: #FFFFFF;\n",
              "    }\n",
              "  </style>\n",
              "\n",
              "      <script>\n",
              "        const buttonEl =\n",
              "          document.querySelector('#df-7cb4310b-1930-457a-ab8c-51775ad072e2 button.colab-df-convert');\n",
              "        buttonEl.style.display =\n",
              "          google.colab.kernel.accessAllowed ? 'block' : 'none';\n",
              "\n",
              "        async function convertToInteractive(key) {\n",
              "          const element = document.querySelector('#df-7cb4310b-1930-457a-ab8c-51775ad072e2');\n",
              "          const dataTable =\n",
              "            await google.colab.kernel.invokeFunction('convertToInteractive',\n",
              "                                                     [key], {});\n",
              "          if (!dataTable) return;\n",
              "\n",
              "          const docLinkHtml = 'Like what you see? Visit the ' +\n",
              "            '<a target=\"_blank\" href=https://colab.research.google.com/notebooks/data_table.ipynb>data table notebook</a>'\n",
              "            + ' to learn more about interactive tables.';\n",
              "          element.innerHTML = '';\n",
              "          dataTable['output_type'] = 'display_data';\n",
              "          await google.colab.output.renderOutput(dataTable, element);\n",
              "          const docLink = document.createElement('div');\n",
              "          docLink.innerHTML = docLinkHtml;\n",
              "          element.appendChild(docLink);\n",
              "        }\n",
              "      </script>\n",
              "    </div>\n",
              "  </div>\n",
              "  "
            ]
          },
          "metadata": {},
          "execution_count": 52
        }
      ]
    },
    {
      "cell_type": "code",
      "source": [
        "# checking for performance metrices\n",
        "#importing classification_report and confusion metrics\n",
        "from sklearn.metrics import confusion_matrix, classification_report\n",
        "#print classification_report\n",
        "# print(classification_report(ytest,ypred_lis))\n",
        "# ploting the confusion metrix plot\n",
        "conf_mat = tf.math.confusion_matrix(labels=ytest,predictions=ypred_lis)\n",
        "plt.figure(figsize = (17,7))\n",
        "sns.heatmap(conf_mat, annot=True,fmt='d')\n",
        "plt.xlabel('Predicted_number')\n",
        "plt.ylabel('True_number')\n"
      ],
      "metadata": {
        "colab": {
          "base_uri": "https://localhost:8080/",
          "height": 469
        },
        "id": "9uHd2hqzMgnx",
        "outputId": "b3ee157f-2d0c-41d4-dafd-7fb2a3e58d8f"
      },
      "execution_count": null,
      "outputs": [
        {
          "output_type": "execute_result",
          "data": {
            "text/plain": [
              "Text(129.5, 0.5, 'True_number')"
            ]
          },
          "metadata": {},
          "execution_count": 53
        },
        {
          "output_type": "display_data",
          "data": {
            "text/plain": [
              "<Figure size 1224x504 with 2 Axes>"
            ],
            "image/png": "[encoded data removed]"
          },
          "metadata": {}
        }
      ]
    },
    {
      "cell_type": "code",
      "source": [
        "# X = df_new.drop(['DivorceProbability','Divorce'], axis = 1)\n",
        "# Y  = df_new['Divorce']\n",
        "# from sklearn.ensemble import ExtraTreesClassifier\n",
        "# model = ExtraTreesClassifier() \n",
        "# model.fit(X,Y)\n",
        "# plot_ranked_feature= pd.Series(model.feature_importances_,index= X.columns)\n",
        "# plot_ranked_feature.nlargest(29).plot(kind = 'barh')\n",
        "# plt.show()"
      ],
      "metadata": {
        "id": "i4Y01chQ8Mqm"
      },
      "execution_count": null,
      "outputs": []
    },
    {
      "cell_type": "markdown",
      "source": [
        "## After going through the above EDA we will develop some predictive models and compare them.\n",
        "\n",
        "We will develop Logistic Regression, Random Forest, SVM, ADA Boost and XG Boost"
      ],
      "metadata": {
        "_uuid": "a253e14489981fb89ac3a36849432549f442695d",
        "id": "wlHc0BtXSYe5"
      }
    },
    {
      "cell_type": "code",
      "source": [
        "df.head()"
      ],
      "metadata": {
        "colab": {
          "base_uri": "https://localhost:8080/",
          "height": 288
        },
        "id": "84eVRrapS0Qo",
        "outputId": "9ea6f2e0-c7bb-43ab-d9cf-cc9b2007c29a"
      },
      "execution_count": null,
      "outputs": [
        {
          "output_type": "execute_result",
          "data": {
            "text/plain": [
              "    Age_Gap  Education  Economic_Similarity  Social_Similarities  \\\n",
              "0  0.000000   0.229932             0.096503             0.759308   \n",
              "1  0.337123   0.495896             0.828023             0.473800   \n",
              "2  0.666787   0.448613             0.254234             0.583692   \n",
              "3  0.529154   0.182523             0.671907             0.030305   \n",
              "4  0.701873   0.856162             0.767425             0.249309   \n",
              "\n",
              "   Cultural_Similarities  Social_Gap  Common_Interests  \\\n",
              "0               0.474368    0.486709          0.754950   \n",
              "1               0.295544    0.526305          0.099434   \n",
              "2               0.094550    0.760743          0.596572   \n",
              "3               0.000000    0.536283          1.000000   \n",
              "4               0.934559    0.730927          0.012434   \n",
              "\n",
              "   Religion_Compatibility  No_Children_Previous Marriage  Desire_to_Marry  \\\n",
              "0                0.835622                       0.857419         0.205549   \n",
              "1                0.984033                       0.848331         0.385596   \n",
              "2                0.410780                       0.043509         0.443365   \n",
              "3                0.701627                       0.600788         0.000000   \n",
              "4                0.107143                       0.342199         0.895931   \n",
              "\n",
              "   Independency  Relationship_with_Spouse Family  TradingIn  Engagement_Time  \\\n",
              "0      0.267719                         0.724562   0.793190         0.492531   \n",
              "1      0.659766                         0.915260   0.635853         0.370515   \n",
              "2      0.769188                         0.153471   0.648788         0.618791   \n",
              "3      0.061856                         0.144279   0.318418         0.061220   \n",
              "4      0.100091                         0.811856   0.824137         0.908147   \n",
              "\n",
              "       Love  Commitment  Mental_Health  Sense_of_Having_Children  \\\n",
              "0  0.582400    0.602610       0.411376                  0.857986   \n",
              "1  0.439874    0.514752       0.616342                  0.569775   \n",
              "2  0.318568    0.942698       0.623775                  0.202669   \n",
              "3  0.731923    0.403826       0.275528                  0.396422   \n",
              "4  0.615743    0.565807       0.232412                  1.000000   \n",
              "\n",
              "   Previous_Trading  Previous_Marriage  Proportion_Common_Genes  Addiction  \\\n",
              "0          0.491675           0.452581                 0.412411   0.523563   \n",
              "1          0.322791           0.076881                 0.838968   0.250099   \n",
              "2          0.079159           0.822612                 0.473247   0.642762   \n",
              "3          0.374801           0.285427                 0.940179   0.117281   \n",
              "4          0.739379           0.036504                 0.026684   0.753673   \n",
              "\n",
              "    Loyalty  Height_Ratio  Good_Income  Relation_Non_spouse_Before_Marriage  \\\n",
              "0  0.370996      0.307847     0.963629                             0.116898   \n",
              "1  0.695791      0.697908     0.403667                             0.005282   \n",
              "2  0.026840      0.602767     0.214390                             0.827684   \n",
              "3  1.000000      0.413694     0.427760                             0.552300   \n",
              "4  0.015125      0.915142     0.513915                             0.992840   \n",
              "\n",
              "   Spouse_Confirmed_by_Family  Divorce_Famil_Grade_1  \\\n",
              "0                    0.059026               0.139567   \n",
              "1                    0.029034               0.978815   \n",
              "2                    0.671753               1.000000   \n",
              "3                    0.611973               0.455621   \n",
              "4                    0.730326               0.031739   \n",
              "\n",
              "   Socializing_Opposite_Sex  Divorce  \n",
              "0                  0.373549        1  \n",
              "1                  0.182341        0  \n",
              "2                  0.013354        1  \n",
              "3                  0.793879        0  \n",
              "4                  0.299709        0  "
            ],
            "text/html": [
              "\n",
              "  <div id=\"df-f87b776a-7181-4032-b60b-271d453a68f3\">\n",
              "    <div class=\"colab-df-container\">\n",
              "      <div>\n",
              "<style scoped>\n",
              "    .dataframe tbody tr th:only-of-type {\n",
              "        vertical-align: middle;\n",
              "    }\n",
              "\n",
              "    .dataframe tbody tr th {\n",
              "        vertical-align: top;\n",
              "    }\n",
              "\n",
              "    .dataframe thead th {\n",
              "        text-align: right;\n",
              "    }\n",
              "</style>\n",
              "<table border=\"1\" class=\"dataframe\">\n",
              "  <thead>\n",
              "    <tr style=\"text-align: right;\">\n",
              "      <th></th>\n",
              "      <th>Age_Gap</th>\n",
              "      <th>Education</th>\n",
              "      <th>Economic_Similarity</th>\n",
              "      <th>Social_Similarities</th>\n",
              "      <th>Cultural_Similarities</th>\n",
              "      <th>Social_Gap</th>\n",
              "      <th>Common_Interests</th>\n",
              "      <th>Religion_Compatibility</th>\n",
              "      <th>No_Children_Previous Marriage</th>\n",
              "      <th>Desire_to_Marry</th>\n",
              "      <th>Independency</th>\n",
              "      <th>Relationship_with_Spouse Family</th>\n",
              "      <th>TradingIn</th>\n",
              "      <th>Engagement_Time</th>\n",
              "      <th>Love</th>\n",
              "      <th>Commitment</th>\n",
              "      <th>Mental_Health</th>\n",
              "      <th>Sense_of_Having_Children</th>\n",
              "      <th>Previous_Trading</th>\n",
              "      <th>Previous_Marriage</th>\n",
              "      <th>Proportion_Common_Genes</th>\n",
              "      <th>Addiction</th>\n",
              "      <th>Loyalty</th>\n",
              "      <th>Height_Ratio</th>\n",
              "      <th>Good_Income</th>\n",
              "      <th>Relation_Non_spouse_Before_Marriage</th>\n",
              "      <th>Spouse_Confirmed_by_Family</th>\n",
              "      <th>Divorce_Famil_Grade_1</th>\n",
              "      <th>Socializing_Opposite_Sex</th>\n",
              "      <th>Divorce</th>\n",
              "    </tr>\n",
              "  </thead>\n",
              "  <tbody>\n",
              "    <tr>\n",
              "      <th>0</th>\n",
              "      <td>0.000000</td>\n",
              "      <td>0.229932</td>\n",
              "      <td>0.096503</td>\n",
              "      <td>0.759308</td>\n",
              "      <td>0.474368</td>\n",
              "      <td>0.486709</td>\n",
              "      <td>0.754950</td>\n",
              "      <td>0.835622</td>\n",
              "      <td>0.857419</td>\n",
              "      <td>0.205549</td>\n",
              "      <td>0.267719</td>\n",
              "      <td>0.724562</td>\n",
              "      <td>0.793190</td>\n",
              "      <td>0.492531</td>\n",
              "      <td>0.582400</td>\n",
              "      <td>0.602610</td>\n",
              "      <td>0.411376</td>\n",
              "      <td>0.857986</td>\n",
              "      <td>0.491675</td>\n",
              "      <td>0.452581</td>\n",
              "      <td>0.412411</td>\n",
              "      <td>0.523563</td>\n",
              "      <td>0.370996</td>\n",
              "      <td>0.307847</td>\n",
              "      <td>0.963629</td>\n",
              "      <td>0.116898</td>\n",
              "      <td>0.059026</td>\n",
              "      <td>0.139567</td>\n",
              "      <td>0.373549</td>\n",
              "      <td>1</td>\n",
              "    </tr>\n",
              "    <tr>\n",
              "      <th>1</th>\n",
              "      <td>0.337123</td>\n",
              "      <td>0.495896</td>\n",
              "      <td>0.828023</td>\n",
              "      <td>0.473800</td>\n",
              "      <td>0.295544</td>\n",
              "      <td>0.526305</td>\n",
              "      <td>0.099434</td>\n",
              "      <td>0.984033</td>\n",
              "      <td>0.848331</td>\n",
              "      <td>0.385596</td>\n",
              "      <td>0.659766</td>\n",
              "      <td>0.915260</td>\n",
              "      <td>0.635853</td>\n",
              "      <td>0.370515</td>\n",
              "      <td>0.439874</td>\n",
              "      <td>0.514752</td>\n",
              "      <td>0.616342</td>\n",
              "      <td>0.569775</td>\n",
              "      <td>0.322791</td>\n",
              "      <td>0.076881</td>\n",
              "      <td>0.838968</td>\n",
              "      <td>0.250099</td>\n",
              "      <td>0.695791</td>\n",
              "      <td>0.697908</td>\n",
              "      <td>0.403667</td>\n",
              "      <td>0.005282</td>\n",
              "      <td>0.029034</td>\n",
              "      <td>0.978815</td>\n",
              "      <td>0.182341</td>\n",
              "      <td>0</td>\n",
              "    </tr>\n",
              "    <tr>\n",
              "      <th>2</th>\n",
              "      <td>0.666787</td>\n",
              "      <td>0.448613</td>\n",
              "      <td>0.254234</td>\n",
              "      <td>0.583692</td>\n",
              "      <td>0.094550</td>\n",
              "      <td>0.760743</td>\n",
              "      <td>0.596572</td>\n",
              "      <td>0.410780</td>\n",
              "      <td>0.043509</td>\n",
              "      <td>0.443365</td>\n",
              "      <td>0.769188</td>\n",
              "      <td>0.153471</td>\n",
              "      <td>0.648788</td>\n",
              "      <td>0.618791</td>\n",
              "      <td>0.318568</td>\n",
              "      <td>0.942698</td>\n",
              "      <td>0.623775</td>\n",
              "      <td>0.202669</td>\n",
              "      <td>0.079159</td>\n",
              "      <td>0.822612</td>\n",
              "      <td>0.473247</td>\n",
              "      <td>0.642762</td>\n",
              "      <td>0.026840</td>\n",
              "      <td>0.602767</td>\n",
              "      <td>0.214390</td>\n",
              "      <td>0.827684</td>\n",
              "      <td>0.671753</td>\n",
              "      <td>1.000000</td>\n",
              "      <td>0.013354</td>\n",
              "      <td>1</td>\n",
              "    </tr>\n",
              "    <tr>\n",
              "      <th>3</th>\n",
              "      <td>0.529154</td>\n",
              "      <td>0.182523</td>\n",
              "      <td>0.671907</td>\n",
              "      <td>0.030305</td>\n",
              "      <td>0.000000</td>\n",
              "      <td>0.536283</td>\n",
              "      <td>1.000000</td>\n",
              "      <td>0.701627</td>\n",
              "      <td>0.600788</td>\n",
              "      <td>0.000000</td>\n",
              "      <td>0.061856</td>\n",
              "      <td>0.144279</td>\n",
              "      <td>0.318418</td>\n",
              "      <td>0.061220</td>\n",
              "      <td>0.731923</td>\n",
              "      <td>0.403826</td>\n",
              "      <td>0.275528</td>\n",
              "      <td>0.396422</td>\n",
              "      <td>0.374801</td>\n",
              "      <td>0.285427</td>\n",
              "      <td>0.940179</td>\n",
              "      <td>0.117281</td>\n",
              "      <td>1.000000</td>\n",
              "      <td>0.413694</td>\n",
              "      <td>0.427760</td>\n",
              "      <td>0.552300</td>\n",
              "      <td>0.611973</td>\n",
              "      <td>0.455621</td>\n",
              "      <td>0.793879</td>\n",
              "      <td>0</td>\n",
              "    </tr>\n",
              "    <tr>\n",
              "      <th>4</th>\n",
              "      <td>0.701873</td>\n",
              "      <td>0.856162</td>\n",
              "      <td>0.767425</td>\n",
              "      <td>0.249309</td>\n",
              "      <td>0.934559</td>\n",
              "      <td>0.730927</td>\n",
              "      <td>0.012434</td>\n",
              "      <td>0.107143</td>\n",
              "      <td>0.342199</td>\n",
              "      <td>0.895931</td>\n",
              "      <td>0.100091</td>\n",
              "      <td>0.811856</td>\n",
              "      <td>0.824137</td>\n",
              "      <td>0.908147</td>\n",
              "      <td>0.615743</td>\n",
              "      <td>0.565807</td>\n",
              "      <td>0.232412</td>\n",
              "      <td>1.000000</td>\n",
              "      <td>0.739379</td>\n",
              "      <td>0.036504</td>\n",
              "      <td>0.026684</td>\n",
              "      <td>0.753673</td>\n",
              "      <td>0.015125</td>\n",
              "      <td>0.915142</td>\n",
              "      <td>0.513915</td>\n",
              "      <td>0.992840</td>\n",
              "      <td>0.730326</td>\n",
              "      <td>0.031739</td>\n",
              "      <td>0.299709</td>\n",
              "      <td>0</td>\n",
              "    </tr>\n",
              "  </tbody>\n",
              "</table>\n",
              "</div>\n",
              "      <button class=\"colab-df-convert\" onclick=\"convertToInteractive('df-f87b776a-7181-4032-b60b-271d453a68f3')\"\n",
              "              title=\"Convert this dataframe to an interactive table.\"\n",
              "              style=\"display:none;\">\n",
              "        \n",
              "  <svg xmlns=\"http://www.w3.org/2000/svg\" height=\"24px\"viewBox=\"0 0 24 24\"\n",
              "       width=\"24px\">\n",
              "    <path d=\"M0 0h24v24H0V0z\" fill=\"none\"/>\n",
              "    <path d=\"M18.56 5.44l.94 2.06.94-2.06 2.06-.94-2.06-.94-.94-2.06-.94 2.06-2.06.94zm-11 1L8.5 8.5l.94-2.06 2.06-.94-2.06-.94L8.5 2.5l-.94 2.06-2.06.94zm10 10l.94 2.06.94-2.06 2.06-.94-2.06-.94-.94-2.06-.94 2.06-2.06.94z\"/><path d=\"M17.41 7.96l-1.37-1.37c-.4-.4-.92-.59-1.43-.59-.52 0-1.04.2-1.43.59L10.3 9.45l-7.72 7.72c-.78.78-.78 2.05 0 2.83L4 21.41c.39.39.9.59 1.41.59.51 0 1.02-.2 1.41-.59l7.78-7.78 2.81-2.81c.8-.78.8-2.07 0-2.86zM5.41 20L4 18.59l7.72-7.72 1.47 1.35L5.41 20z\"/>\n",
              "  </svg>\n",
              "      </button>\n",
              "      \n",
              "  <style>\n",
              "    .colab-df-container {\n",
              "      display:flex;\n",
              "      flex-wrap:wrap;\n",
              "      gap: 12px;\n",
              "    }\n",
              "\n",
              "    .colab-df-convert {\n",
              "      background-color: #E8F0FE;\n",
              "      border: none;\n",
              "      border-radius: 50%;\n",
              "      cursor: pointer;\n",
              "      display: none;\n",
              "      fill: #1967D2;\n",
              "      height: 32px;\n",
              "      padding: 0 0 0 0;\n",
              "      width: 32px;\n",
              "    }\n",
              "\n",
              "    .colab-df-convert:hover {\n",
              "      background-color: #E2EBFA;\n",
              "      box-shadow: 0px 1px 2px rgba(60, 64, 67, 0.3), 0px 1px 3px 1px rgba(60, 64, 67, 0.15);\n",
              "      fill: #174EA6;\n",
              "    }\n",
              "\n",
              "    [theme=dark] .colab-df-convert {\n",
              "      background-color: #3B4455;\n",
              "      fill: #D2E3FC;\n",
              "    }\n",
              "\n",
              "    [theme=dark] .colab-df-convert:hover {\n",
              "      background-color: #434B5C;\n",
              "      box-shadow: 0px 1px 3px 1px rgba(0, 0, 0, 0.15);\n",
              "      filter: drop-shadow(0px 1px 2px rgba(0, 0, 0, 0.3));\n",
              "      fill: #FFFFFF;\n",
              "    }\n",
              "  </style>\n",
              "\n",
              "      <script>\n",
              "        const buttonEl =\n",
              "          document.querySelector('#df-f87b776a-7181-4032-b60b-271d453a68f3 button.colab-df-convert');\n",
              "        buttonEl.style.display =\n",
              "          google.colab.kernel.accessAllowed ? 'block' : 'none';\n",
              "\n",
              "        async function convertToInteractive(key) {\n",
              "          const element = document.querySelector('#df-f87b776a-7181-4032-b60b-271d453a68f3');\n",
              "          const dataTable =\n",
              "            await google.colab.kernel.invokeFunction('convertToInteractive',\n",
              "                                                     [key], {});\n",
              "          if (!dataTable) return;\n",
              "\n",
              "          const docLinkHtml = 'Like what you see? Visit the ' +\n",
              "            '<a target=\"_blank\" href=https://colab.research.google.com/notebooks/data_table.ipynb>data table notebook</a>'\n",
              "            + ' to learn more about interactive tables.';\n",
              "          element.innerHTML = '';\n",
              "          dataTable['output_type'] = 'display_data';\n",
              "          await google.colab.output.renderOutput(dataTable, element);\n",
              "          const docLink = document.createElement('div');\n",
              "          docLink.innerHTML = docLinkHtml;\n",
              "          element.appendChild(docLink);\n",
              "        }\n",
              "      </script>\n",
              "    </div>\n",
              "  </div>\n",
              "  "
            ]
          },
          "metadata": {},
          "execution_count": 55
        }
      ]
    },
    {
      "cell_type": "code",
      "source": [
        "df_dummies=df"
      ],
      "metadata": {
        "id": "MtFV6Af7S7AX"
      },
      "execution_count": null,
      "outputs": []
    },
    {
      "cell_type": "markdown",
      "source": [
        "**1. Logistic Regression**"
      ],
      "metadata": {
        "_uuid": "083086278a1073887b282a50a6399b1985224c1f",
        "id": "vnUBmsS-SYe5"
      }
    },
    {
      "cell_type": "code",
      "source": [
        "# We will use the data frame where we had created dummy variables\n",
        "y = df_dummies['Divorce'].values\n",
        "X = df_dummies.drop(columns = ['Divorce'])\n",
        "\n",
        "# Scaling all the variables to a range of 0 to 1\n",
        "from sklearn.preprocessing import MinMaxScaler\n",
        "features = X.columns.values\n",
        "scaler = MinMaxScaler(feature_range = (0,1))\n",
        "scaler.fit(X)\n",
        "X = pd.DataFrame(scaler.transform(X))\n",
        "X.columns = features"
      ],
      "metadata": {
        "_uuid": "7d13d788abc4ee9268338ad0539e6f8098ae9fd4",
        "trusted": true,
        "id": "hwEvBdUqSYe5"
      },
      "execution_count": null,
      "outputs": []
    },
    {
      "cell_type": "code",
      "source": [
        "# Create Train & Test Data\n",
        "from sklearn.model_selection import train_test_split\n",
        "X_train, X_test, y_train, y_test = train_test_split(X, y, test_size=0.3, random_state=101)"
      ],
      "metadata": {
        "_uuid": "32367729f8ea962bb73cae8b88b6310dd811b6de",
        "trusted": true,
        "id": "SyKxj_EESYe6"
      },
      "execution_count": null,
      "outputs": []
    },
    {
      "cell_type": "code",
      "source": [
        "# Running logistic regression model\n",
        "from sklearn.linear_model import LogisticRegression\n",
        "model = LogisticRegression()\n",
        "result = model.fit(X_train, y_train)"
      ],
      "metadata": {
        "_uuid": "998977bc5997ee4f9b5c45f3997523339ddc3943",
        "trusted": true,
        "id": "_pF5VGhUSYe6"
      },
      "execution_count": null,
      "outputs": []
    },
    {
      "cell_type": "code",
      "source": [
        "from sklearn import metrics\n",
        "prediction_test = model.predict(X_test)\n",
        "# Print the prediction accuracy\n",
        "print (metrics.accuracy_score(y_test, prediction_test))"
      ],
      "metadata": {
        "_uuid": "f7f3d7b6cad7e9754fc7480e004269000363ec29",
        "trusted": true,
        "id": "1edIlG1ESYe6",
        "colab": {
          "base_uri": "https://localhost:8080/"
        },
        "outputId": "ffa5c2ca-b909-4d33-f1f8-28cdc35de137"
      },
      "execution_count": null,
      "outputs": [
        {
          "output_type": "stream",
          "name": "stdout",
          "text": [
            "0.5666666666666667\n"
          ]
        }
      ]
    },
    {
      "cell_type": "code",
      "source": [
        "plt.figure(figsize=(4,3))\n",
        "sns.heatmap(confusion_matrix(y_test,  prediction_test),\n",
        "                annot=True,fmt = \"d\",linecolor=\"k\",linewidths=3)\n",
        "    \n",
        "plt.title(\"LOGISTIC REGRESSION CONFUSION MATRIX\",fontsize=14)\n",
        "plt.show()"
      ],
      "metadata": {
        "colab": {
          "base_uri": "https://localhost:8080/",
          "height": 230
        },
        "id": "4dbcW4uwUMQj",
        "outputId": "814f17ca-7285-4d2d-b231-546d3840ec27"
      },
      "execution_count": null,
      "outputs": [
        {
          "output_type": "display_data",
          "data": {
            "text/plain": [
              "<Figure size 288x216 with 2 Axes>"
            ],
            "image/png": "[encoded data removed]"
          },
          "metadata": {}
        }
      ]
    },
    {
      "cell_type": "code",
      "source": [
        "from sklearn.metrics import roc_curve\n",
        "from sklearn.metrics import auc\n",
        "y_pred_prob = model.predict_proba(X_test)[:,1]\n",
        "fpr, tpr, thresholds = roc_curve(y_test, y_pred_prob)\n",
        "plt.plot([0, 1], [0, 1], 'k--' )\n",
        "plt.plot(fpr, tpr, label='Logistic Regression',color = \"r\")\n",
        "plt.xlabel('False Positive Rate')\n",
        "plt.ylabel('True Positive Rate')\n",
        "plt.title('Logistic Regression ROC Curve',fontsize=16)\n",
        "plt.show();\n"
      ],
      "metadata": {
        "colab": {
          "base_uri": "https://localhost:8080/",
          "height": 520
        },
        "id": "iE_FFYDUUAmj",
        "outputId": "8b270ee5-173c-4bd8-eb4e-10f886889ec9"
      },
      "execution_count": null,
      "outputs": [
        {
          "output_type": "display_data",
          "data": {
            "text/plain": [
              "<Figure size 720x576 with 1 Axes>"
            ],
            "image/png": "[encoded data removed]"
          },
          "metadata": {}
        }
      ]
    },
    {
      "cell_type": "code",
      "source": [
        "# To get the weights of all the variables\n",
        "weights = pd.Series(model.coef_[0],\n",
        "                 index=X.columns.values)\n",
        "print (weights.sort_values(ascending = False)[:10].plot(kind='bar'))\n"
      ],
      "metadata": {
        "_uuid": "ea39ca61c3af331a45ff320add59e1aefab7da65",
        "trusted": true,
        "id": "-f4PHV0wSYe7",
        "colab": {
          "base_uri": "https://localhost:8080/",
          "height": 706
        },
        "outputId": "9ae9f2ff-031d-4e17-805b-f1b64f6593c2"
      },
      "execution_count": null,
      "outputs": [
        {
          "output_type": "stream",
          "name": "stdout",
          "text": [
            "AxesSubplot(0.125,0.125;0.775x0.755)\n"
          ]
        },
        {
          "output_type": "display_data",
          "data": {
            "text/plain": [
              "<Figure size 720x576 with 1 Axes>"
            ],
            "image/png": "[encoded data removed]"
          },
          "metadata": {}
        }
      ]
    },
    {
      "cell_type": "code",
      "source": [
        "print(weights.sort_values(ascending = False)[-10:].plot(kind='bar'))"
      ],
      "metadata": {
        "_uuid": "6aef934353dce495ea49e3ba48fe9ef29e7a53f0",
        "trusted": true,
        "id": "Og3mPny6SYe7",
        "colab": {
          "base_uri": "https://localhost:8080/",
          "height": 678
        },
        "outputId": "4b2ac427-6e58-43f5-b733-a15f8e788b73"
      },
      "execution_count": null,
      "outputs": [
        {
          "output_type": "stream",
          "name": "stdout",
          "text": [
            "AxesSubplot(0.125,0.125;0.775x0.755)\n"
          ]
        },
        {
          "output_type": "display_data",
          "data": {
            "text/plain": [
              "<Figure size 720x576 with 1 Axes>"
            ],
            "image/png": "[encoded data removed]"
          },
          "metadata": {}
        }
      ]
    },
    {
      "cell_type": "markdown",
      "source": [
        "**2. Random Forest**"
      ],
      "metadata": {
        "_uuid": "d8ee107a6c58397a1f6f073032cde2c20c76fc15",
        "id": "elRGcA2gSYe8"
      }
    },
    {
      "cell_type": "code",
      "source": [
        "from sklearn.ensemble import RandomForestClassifier\n",
        "X_train, X_test, y_train, y_test = train_test_split(X, y, test_size=0.2, random_state=101)\n",
        "model_rf = RandomForestClassifier(n_estimators=1000 , oob_score = True, n_jobs = -1,\n",
        "                                  random_state =50, max_features = \"auto\",\n",
        "                                  max_leaf_nodes = 30)\n",
        "model_rf.fit(X_train, y_train)\n",
        "\n",
        "# Make predictions\n",
        "prediction_test = model_rf.predict(X_test)\n",
        "print (metrics.accuracy_score(y_test, prediction_test))"
      ],
      "metadata": {
        "_uuid": "352d2332ff650ec1e22521c46790629295bcb1c7",
        "trusted": true,
        "id": "xNGbMzsUSYe8",
        "colab": {
          "base_uri": "https://localhost:8080/"
        },
        "outputId": "b9d9994e-246b-4d91-c4e7-d517ea690cdd"
      },
      "execution_count": null,
      "outputs": [
        {
          "output_type": "stream",
          "name": "stdout",
          "text": [
            "0.5\n"
          ]
        }
      ]
    },
    {
      "cell_type": "code",
      "source": [
        "importances = model_rf.feature_importances_\n",
        "weights = pd.Series(importances,\n",
        "                 index=X.columns.values)\n",
        "weights.sort_values()[-10:].plot(kind = 'barh')"
      ],
      "metadata": {
        "_uuid": "ad587d99c32b5998fae79beaf9b508c4345e8ad2",
        "trusted": true,
        "id": "v29yMHtISYe8",
        "colab": {
          "base_uri": "https://localhost:8080/",
          "height": 502
        },
        "outputId": "c27b9834-4875-4da7-df03-d2945d3725a8"
      },
      "execution_count": null,
      "outputs": [
        {
          "output_type": "execute_result",
          "data": {
            "text/plain": [
              "<matplotlib.axes._subplots.AxesSubplot at 0x7f862c301650>"
            ]
          },
          "metadata": {},
          "execution_count": 67
        },
        {
          "output_type": "display_data",
          "data": {
            "text/plain": [
              "<Figure size 720x576 with 1 Axes>"
            ],
            "image/png": "[encoded data removed]"
          },
          "metadata": {}
        }
      ]
    },
    {
      "cell_type": "markdown",
      "source": [
        "**3. Support Vecor Machine (SVM)**"
      ],
      "metadata": {
        "_uuid": "d66067184c40bb775576854fcd1d2d00d1e2ada5",
        "id": "GcuOSmvhSYe9"
      }
    },
    {
      "cell_type": "code",
      "source": [
        "X_train, X_test, y_train, y_test = train_test_split(X, y, test_size=0.2, random_state=99)"
      ],
      "metadata": {
        "_uuid": "2efb7cabe5d6c1ec276becf6d036f8eea3b8d492",
        "trusted": true,
        "id": "IUCe29L0SYe9"
      },
      "execution_count": null,
      "outputs": []
    },
    {
      "cell_type": "code",
      "source": [
        "from sklearn.svm import SVC\n",
        "\n",
        "model.svm = SVC(kernel='linear') \n",
        "model.svm.fit(X_train,y_train)\n",
        "preds = model.svm.predict(X_test)\n",
        "metrics.accuracy_score(y_test, preds)"
      ],
      "metadata": {
        "_uuid": "9bd8fcf307bdf2092e6b2e2cd3dfc12e82400e19",
        "trusted": true,
        "id": "7jGqEP9zSYe9",
        "colab": {
          "base_uri": "https://localhost:8080/"
        },
        "outputId": "1382299c-d6da-49e8-a4a9-5936b443d481"
      },
      "execution_count": null,
      "outputs": [
        {
          "output_type": "execute_result",
          "data": {
            "text/plain": [
              "0.35"
            ]
          },
          "metadata": {},
          "execution_count": 69
        }
      ]
    },
    {
      "cell_type": "code",
      "source": [
        "# Create the Confusion matrix\n",
        "from sklearn.metrics import classification_report, confusion_matrix  \n",
        "print(confusion_matrix(y_test,preds))  "
      ],
      "metadata": {
        "_uuid": "231b49ac18e47fa50c817b4ee1915af17c9d3cd2",
        "trusted": true,
        "id": "M6F8dJbZSYe-",
        "colab": {
          "base_uri": "https://localhost:8080/"
        },
        "outputId": "5b4ed2b8-3f90-4a7d-b550-567076f3c1cf"
      },
      "execution_count": null,
      "outputs": [
        {
          "output_type": "stream",
          "name": "stdout",
          "text": [
            "[[ 3  2]\n",
            " [11  4]]\n"
          ]
        }
      ]
    },
    {
      "cell_type": "code",
      "source": [
        "ax1 = sns.catplot(x=\"Education\", kind=\"count\", hue=\"Divorce\", data=df,\n",
        "                  estimator=lambda x: sum(x==0)*100.0/len(x))"
      ],
      "metadata": {
        "_uuid": "9cafbb06245f6162da782bf0aa99faa3f6f9029d",
        "trusted": true,
        "id": "mUWhD6n-SYe-",
        "colab": {
          "base_uri": "https://localhost:8080/",
          "height": 365
        },
        "outputId": "f7413448-0a13-4837-c268-345b27c4d3a7"
      },
      "execution_count": null,
      "outputs": [
        {
          "output_type": "display_data",
          "data": {
            "text/plain": [
              "<Figure size 414.425x360 with 1 Axes>"
            ],
            "image/png": "[encoded data removed]"
          },
          "metadata": {}
        }
      ]
    },
    {
      "cell_type": "markdown",
      "source": [
        "**4. ADA Boost**"
      ],
      "metadata": {
        "_uuid": "46dcb2e6e42d4445cb046632fc70be3ecf7b4380",
        "trusted": true,
        "id": "5dipwyRySYe-"
      }
    },
    {
      "cell_type": "code",
      "source": [
        "# AdaBoost Algorithm\n",
        "from sklearn.ensemble import AdaBoostClassifier\n",
        "model = AdaBoostClassifier()\n",
        "# n_estimators = 50 (default value) \n",
        "# base_estimator = DecisionTreeClassifier (default value)\n",
        "model.fit(X_train,y_train)\n",
        "preds = model.predict(X_test)\n",
        "metrics.accuracy_score(y_test, preds)"
      ],
      "metadata": {
        "_uuid": "92f12399305244a20814918747d8cc2cf69f2937",
        "trusted": true,
        "id": "ewjBvldISYe_",
        "colab": {
          "base_uri": "https://localhost:8080/"
        },
        "outputId": "57db2d53-4817-46bb-db5a-d39a65059217"
      },
      "execution_count": null,
      "outputs": [
        {
          "output_type": "execute_result",
          "data": {
            "text/plain": [
              "0.55"
            ]
          },
          "metadata": {},
          "execution_count": 72
        }
      ]
    },
    {
      "cell_type": "markdown",
      "source": [
        "**5. XG Boost**"
      ],
      "metadata": {
        "_uuid": "31346f118c08fced007e555f3a7ad5ad9605a7ff",
        "id": "P_Ut9uKnSYe_"
      }
    },
    {
      "cell_type": "code",
      "source": [
        "from xgboost import XGBClassifier\n",
        "model = XGBClassifier()\n",
        "model.fit(X_train, y_train)\n",
        "preds = model.predict(X_test)\n",
        "metrics.accuracy_score(y_test, preds)"
      ],
      "metadata": {
        "_uuid": "066ba20180ea27da8c3cea15ce50aaeac9fdd3bd",
        "trusted": true,
        "id": "1_HnbV0gSYe_",
        "colab": {
          "base_uri": "https://localhost:8080/"
        },
        "outputId": "4b4ec64e-5472-429c-b7b9-bc219d7c3073"
      },
      "execution_count": null,
      "outputs": [
        {
          "output_type": "execute_result",
          "data": {
            "text/plain": [
              "0.65"
            ]
          },
          "metadata": {},
          "execution_count": 73
        }
      ]
    }
  ]
}