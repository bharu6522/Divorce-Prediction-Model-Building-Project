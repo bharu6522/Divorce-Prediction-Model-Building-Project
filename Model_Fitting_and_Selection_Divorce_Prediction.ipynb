{
  "nbformat": 4,
  "nbformat_minor": 0,
  "metadata": {
    "colab": {
      "provenance": [],
      "toc_visible": true
    },
    "kernelspec": {
      "name": "python3",
      "display_name": "Python 3"
    },
    "language_info": {
      "name": "python"
    },
    "accelerator": "GPU",
    "gpuClass": "standard"
  },
  "cells": [
    {
      "cell_type": "markdown",
      "source": [
        "# Machine Learning Model Evaluations and Predictions"
      ],
      "metadata": {
        "id": "t3Fr6hbykgNf"
      }
    },
    {
      "cell_type": "markdown",
      "source": [
        "## 6. Model fitting and selection\n",
        "For the model fitting, I will try out the following\n",
        "* Logistic regression in the primal space and with different kernels\n",
        "* SVM in the primal and with different Kernels\n",
        "* Ensemble models"
      ],
      "metadata": {
        "_uuid": "226779cf93f6ef4f5cc338d296139a2706ae33f7",
        "trusted": true,
        "id": "Ac1MKYS9EeMl"
      }
    },
    {
      "cell_type": "code",
      "source": [
        "# Support functions\n",
        "from sklearn.preprocessing import PolynomialFeatures\n",
        "from sklearn.model_selection import cross_val_score\n",
        "from sklearn.model_selection import GridSearchCV\n",
        "from scipy.stats import uniform\n",
        "\n",
        "# Fit models\n",
        "from sklearn.linear_model import LogisticRegression\n",
        "from sklearn.svm import SVC\n",
        "from sklearn.ensemble import RandomForestClassifier\n",
        "from xgboost import XGBClassifier\n",
        "\n",
        "# Scoring functions\n",
        "from sklearn.metrics import accuracy_score\n",
        "from sklearn.metrics import classification_report\n",
        "from sklearn.metrics import roc_auc_score\n",
        "from sklearn.metrics import roc_curve"
      ],
      "metadata": {
        "_uuid": "73308db2ad89fd01558192944abceaeeb6a95481",
        "trusted": true,
        "id": "hovfBgPvEeMm"
      },
      "execution_count": null,
      "outputs": []
    },
    {
      "cell_type": "code",
      "source": [
        "# Function to give best model score and parameters\n",
        "def best_model(model):\n",
        "    print(model.best_score_)    \n",
        "    print(model.best_params_)\n",
        "    print(model.best_estimator_)\n",
        "def get_auc_scores(y_actual, method,method2):\n",
        "    auc_score = roc_auc_score(y_actual, method); \n",
        "    fpr_df, tpr_df, _ = roc_curve(y_actual, method2); \n",
        "    return (auc_score, fpr_df, tpr_df)"
      ],
      "metadata": {
        "_uuid": "cfdd4dbf61156588a610bdfe2e341d5cf205d5f4",
        "trusted": true,
        "id": "yTx8DAJwEeMm"
      },
      "execution_count": null,
      "outputs": []
    },
    {
      "cell_type": "code",
      "source": [
        "df.head()"
      ],
      "metadata": {
        "colab": {
          "base_uri": "https://localhost:8080/",
          "height": 288
        },
        "id": "NzuDxFalF_5M",
        "outputId": "a56ffd39-c33d-4e34-9d28-e26cb6e8afca"
      },
      "execution_count": null,
      "outputs": [
        {
          "output_type": "execute_result",
          "data": {
            "text/plain": [
              "    Age_Gap  Education  Economic_Similarity  Social_Similarities  \\\n",
              "0  0.000000   0.229932             0.096503             0.759308   \n",
              "1  0.337123   0.495896             0.828023             0.473800   \n",
              "2  0.666787   0.448613             0.254234             0.583692   \n",
              "3  0.529154   0.182523             0.671907             0.030305   \n",
              "4  0.701873   0.856162             0.767425             0.249309   \n",
              "\n",
              "   Cultural_Similarities  Social_Gap  Common_Interests  \\\n",
              "0               0.474368    0.486709          0.754950   \n",
              "1               0.295544    0.526305          0.099434   \n",
              "2               0.094550    0.760743          0.596572   \n",
              "3               0.000000    0.536283          1.000000   \n",
              "4               0.934559    0.730927          0.012434   \n",
              "\n",
              "   Religion_Compatibility  No_Children_Previous Marriage  Desire_to_Marry  \\\n",
              "0                0.835622                       0.857419         0.205549   \n",
              "1                0.984033                       0.848331         0.385596   \n",
              "2                0.410780                       0.043509         0.443365   \n",
              "3                0.701627                       0.600788         0.000000   \n",
              "4                0.107143                       0.342199         0.895931   \n",
              "\n",
              "   Independency  Relationship_with_Spouse Family  TradingIn  Engagement_Time  \\\n",
              "0      0.267719                         0.724562   0.793190         0.492531   \n",
              "1      0.659766                         0.915260   0.635853         0.370515   \n",
              "2      0.769188                         0.153471   0.648788         0.618791   \n",
              "3      0.061856                         0.144279   0.318418         0.061220   \n",
              "4      0.100091                         0.811856   0.824137         0.908147   \n",
              "\n",
              "       Love  Commitment  Mental_Health  Sense_of_Having_Children  \\\n",
              "0  0.582400    0.602610       0.411376                  0.857986   \n",
              "1  0.439874    0.514752       0.616342                  0.569775   \n",
              "2  0.318568    0.942698       0.623775                  0.202669   \n",
              "3  0.731923    0.403826       0.275528                  0.396422   \n",
              "4  0.615743    0.565807       0.232412                  1.000000   \n",
              "\n",
              "   Previous_Trading  Previous_Marriage  Proportion_Common_Genes  Addiction  \\\n",
              "0          0.491675           0.452581                 0.412411   0.523563   \n",
              "1          0.322791           0.076881                 0.838968   0.250099   \n",
              "2          0.079159           0.822612                 0.473247   0.642762   \n",
              "3          0.374801           0.285427                 0.940179   0.117281   \n",
              "4          0.739379           0.036504                 0.026684   0.753673   \n",
              "\n",
              "    Loyalty  Height_Ratio  Good_Income  Relation_Non_spouse_Before_Marriage  \\\n",
              "0  0.370996      0.307847     0.963629                             0.116898   \n",
              "1  0.695791      0.697908     0.403667                             0.005282   \n",
              "2  0.026840      0.602767     0.214390                             0.827684   \n",
              "3  1.000000      0.413694     0.427760                             0.552300   \n",
              "4  0.015125      0.915142     0.513915                             0.992840   \n",
              "\n",
              "   Spouse_Confirmed_by_Family  Divorce_Famil_Grade_1  \\\n",
              "0                    0.059026               0.139567   \n",
              "1                    0.029034               0.978815   \n",
              "2                    0.671753               1.000000   \n",
              "3                    0.611973               0.455621   \n",
              "4                    0.730326               0.031739   \n",
              "\n",
              "   Socializing_Opposite_Sex  Divorce  \n",
              "0                  0.373549        1  \n",
              "1                  0.182341        0  \n",
              "2                  0.013354        1  \n",
              "3                  0.793879        0  \n",
              "4                  0.299709        0  "
            ],
            "text/html": [
              "\n",
              "  <div id=\"df-f3a62921-c8c0-482d-b616-9d5f5aeaf528\">\n",
              "    <div class=\"colab-df-container\">\n",
              "      <div>\n",
              "<style scoped>\n",
              "    .dataframe tbody tr th:only-of-type {\n",
              "        vertical-align: middle;\n",
              "    }\n",
              "\n",
              "    .dataframe tbody tr th {\n",
              "        vertical-align: top;\n",
              "    }\n",
              "\n",
              "    .dataframe thead th {\n",
              "        text-align: right;\n",
              "    }\n",
              "</style>\n",
              "<table border=\"1\" class=\"dataframe\">\n",
              "  <thead>\n",
              "    <tr style=\"text-align: right;\">\n",
              "      <th></th>\n",
              "      <th>Age_Gap</th>\n",
              "      <th>Education</th>\n",
              "      <th>Economic_Similarity</th>\n",
              "      <th>Social_Similarities</th>\n",
              "      <th>Cultural_Similarities</th>\n",
              "      <th>Social_Gap</th>\n",
              "      <th>Common_Interests</th>\n",
              "      <th>Religion_Compatibility</th>\n",
              "      <th>No_Children_Previous Marriage</th>\n",
              "      <th>Desire_to_Marry</th>\n",
              "      <th>Independency</th>\n",
              "      <th>Relationship_with_Spouse Family</th>\n",
              "      <th>TradingIn</th>\n",
              "      <th>Engagement_Time</th>\n",
              "      <th>Love</th>\n",
              "      <th>Commitment</th>\n",
              "      <th>Mental_Health</th>\n",
              "      <th>Sense_of_Having_Children</th>\n",
              "      <th>Previous_Trading</th>\n",
              "      <th>Previous_Marriage</th>\n",
              "      <th>Proportion_Common_Genes</th>\n",
              "      <th>Addiction</th>\n",
              "      <th>Loyalty</th>\n",
              "      <th>Height_Ratio</th>\n",
              "      <th>Good_Income</th>\n",
              "      <th>Relation_Non_spouse_Before_Marriage</th>\n",
              "      <th>Spouse_Confirmed_by_Family</th>\n",
              "      <th>Divorce_Famil_Grade_1</th>\n",
              "      <th>Socializing_Opposite_Sex</th>\n",
              "      <th>Divorce</th>\n",
              "    </tr>\n",
              "  </thead>\n",
              "  <tbody>\n",
              "    <tr>\n",
              "      <th>0</th>\n",
              "      <td>0.000000</td>\n",
              "      <td>0.229932</td>\n",
              "      <td>0.096503</td>\n",
              "      <td>0.759308</td>\n",
              "      <td>0.474368</td>\n",
              "      <td>0.486709</td>\n",
              "      <td>0.754950</td>\n",
              "      <td>0.835622</td>\n",
              "      <td>0.857419</td>\n",
              "      <td>0.205549</td>\n",
              "      <td>0.267719</td>\n",
              "      <td>0.724562</td>\n",
              "      <td>0.793190</td>\n",
              "      <td>0.492531</td>\n",
              "      <td>0.582400</td>\n",
              "      <td>0.602610</td>\n",
              "      <td>0.411376</td>\n",
              "      <td>0.857986</td>\n",
              "      <td>0.491675</td>\n",
              "      <td>0.452581</td>\n",
              "      <td>0.412411</td>\n",
              "      <td>0.523563</td>\n",
              "      <td>0.370996</td>\n",
              "      <td>0.307847</td>\n",
              "      <td>0.963629</td>\n",
              "      <td>0.116898</td>\n",
              "      <td>0.059026</td>\n",
              "      <td>0.139567</td>\n",
              "      <td>0.373549</td>\n",
              "      <td>1</td>\n",
              "    </tr>\n",
              "    <tr>\n",
              "      <th>1</th>\n",
              "      <td>0.337123</td>\n",
              "      <td>0.495896</td>\n",
              "      <td>0.828023</td>\n",
              "      <td>0.473800</td>\n",
              "      <td>0.295544</td>\n",
              "      <td>0.526305</td>\n",
              "      <td>0.099434</td>\n",
              "      <td>0.984033</td>\n",
              "      <td>0.848331</td>\n",
              "      <td>0.385596</td>\n",
              "      <td>0.659766</td>\n",
              "      <td>0.915260</td>\n",
              "      <td>0.635853</td>\n",
              "      <td>0.370515</td>\n",
              "      <td>0.439874</td>\n",
              "      <td>0.514752</td>\n",
              "      <td>0.616342</td>\n",
              "      <td>0.569775</td>\n",
              "      <td>0.322791</td>\n",
              "      <td>0.076881</td>\n",
              "      <td>0.838968</td>\n",
              "      <td>0.250099</td>\n",
              "      <td>0.695791</td>\n",
              "      <td>0.697908</td>\n",
              "      <td>0.403667</td>\n",
              "      <td>0.005282</td>\n",
              "      <td>0.029034</td>\n",
              "      <td>0.978815</td>\n",
              "      <td>0.182341</td>\n",
              "      <td>0</td>\n",
              "    </tr>\n",
              "    <tr>\n",
              "      <th>2</th>\n",
              "      <td>0.666787</td>\n",
              "      <td>0.448613</td>\n",
              "      <td>0.254234</td>\n",
              "      <td>0.583692</td>\n",
              "      <td>0.094550</td>\n",
              "      <td>0.760743</td>\n",
              "      <td>0.596572</td>\n",
              "      <td>0.410780</td>\n",
              "      <td>0.043509</td>\n",
              "      <td>0.443365</td>\n",
              "      <td>0.769188</td>\n",
              "      <td>0.153471</td>\n",
              "      <td>0.648788</td>\n",
              "      <td>0.618791</td>\n",
              "      <td>0.318568</td>\n",
              "      <td>0.942698</td>\n",
              "      <td>0.623775</td>\n",
              "      <td>0.202669</td>\n",
              "      <td>0.079159</td>\n",
              "      <td>0.822612</td>\n",
              "      <td>0.473247</td>\n",
              "      <td>0.642762</td>\n",
              "      <td>0.026840</td>\n",
              "      <td>0.602767</td>\n",
              "      <td>0.214390</td>\n",
              "      <td>0.827684</td>\n",
              "      <td>0.671753</td>\n",
              "      <td>1.000000</td>\n",
              "      <td>0.013354</td>\n",
              "      <td>1</td>\n",
              "    </tr>\n",
              "    <tr>\n",
              "      <th>3</th>\n",
              "      <td>0.529154</td>\n",
              "      <td>0.182523</td>\n",
              "      <td>0.671907</td>\n",
              "      <td>0.030305</td>\n",
              "      <td>0.000000</td>\n",
              "      <td>0.536283</td>\n",
              "      <td>1.000000</td>\n",
              "      <td>0.701627</td>\n",
              "      <td>0.600788</td>\n",
              "      <td>0.000000</td>\n",
              "      <td>0.061856</td>\n",
              "      <td>0.144279</td>\n",
              "      <td>0.318418</td>\n",
              "      <td>0.061220</td>\n",
              "      <td>0.731923</td>\n",
              "      <td>0.403826</td>\n",
              "      <td>0.275528</td>\n",
              "      <td>0.396422</td>\n",
              "      <td>0.374801</td>\n",
              "      <td>0.285427</td>\n",
              "      <td>0.940179</td>\n",
              "      <td>0.117281</td>\n",
              "      <td>1.000000</td>\n",
              "      <td>0.413694</td>\n",
              "      <td>0.427760</td>\n",
              "      <td>0.552300</td>\n",
              "      <td>0.611973</td>\n",
              "      <td>0.455621</td>\n",
              "      <td>0.793879</td>\n",
              "      <td>0</td>\n",
              "    </tr>\n",
              "    <tr>\n",
              "      <th>4</th>\n",
              "      <td>0.701873</td>\n",
              "      <td>0.856162</td>\n",
              "      <td>0.767425</td>\n",
              "      <td>0.249309</td>\n",
              "      <td>0.934559</td>\n",
              "      <td>0.730927</td>\n",
              "      <td>0.012434</td>\n",
              "      <td>0.107143</td>\n",
              "      <td>0.342199</td>\n",
              "      <td>0.895931</td>\n",
              "      <td>0.100091</td>\n",
              "      <td>0.811856</td>\n",
              "      <td>0.824137</td>\n",
              "      <td>0.908147</td>\n",
              "      <td>0.615743</td>\n",
              "      <td>0.565807</td>\n",
              "      <td>0.232412</td>\n",
              "      <td>1.000000</td>\n",
              "      <td>0.739379</td>\n",
              "      <td>0.036504</td>\n",
              "      <td>0.026684</td>\n",
              "      <td>0.753673</td>\n",
              "      <td>0.015125</td>\n",
              "      <td>0.915142</td>\n",
              "      <td>0.513915</td>\n",
              "      <td>0.992840</td>\n",
              "      <td>0.730326</td>\n",
              "      <td>0.031739</td>\n",
              "      <td>0.299709</td>\n",
              "      <td>0</td>\n",
              "    </tr>\n",
              "  </tbody>\n",
              "</table>\n",
              "</div>\n",
              "      <button class=\"colab-df-convert\" onclick=\"convertToInteractive('df-f3a62921-c8c0-482d-b616-9d5f5aeaf528')\"\n",
              "              title=\"Convert this dataframe to an interactive table.\"\n",
              "              style=\"display:none;\">\n",
              "        \n",
              "  <svg xmlns=\"http://www.w3.org/2000/svg\" height=\"24px\"viewBox=\"0 0 24 24\"\n",
              "       width=\"24px\">\n",
              "    <path d=\"M0 0h24v24H0V0z\" fill=\"none\"/>\n",
              "    <path d=\"M18.56 5.44l.94 2.06.94-2.06 2.06-.94-2.06-.94-.94-2.06-.94 2.06-2.06.94zm-11 1L8.5 8.5l.94-2.06 2.06-.94-2.06-.94L8.5 2.5l-.94 2.06-2.06.94zm10 10l.94 2.06.94-2.06 2.06-.94-2.06-.94-.94-2.06-.94 2.06-2.06.94z\"/><path d=\"M17.41 7.96l-1.37-1.37c-.4-.4-.92-.59-1.43-.59-.52 0-1.04.2-1.43.59L10.3 9.45l-7.72 7.72c-.78.78-.78 2.05 0 2.83L4 21.41c.39.39.9.59 1.41.59.51 0 1.02-.2 1.41-.59l7.78-7.78 2.81-2.81c.8-.78.8-2.07 0-2.86zM5.41 20L4 18.59l7.72-7.72 1.47 1.35L5.41 20z\"/>\n",
              "  </svg>\n",
              "      </button>\n",
              "      \n",
              "  <style>\n",
              "    .colab-df-container {\n",
              "      display:flex;\n",
              "      flex-wrap:wrap;\n",
              "      gap: 12px;\n",
              "    }\n",
              "\n",
              "    .colab-df-convert {\n",
              "      background-color: #E8F0FE;\n",
              "      border: none;\n",
              "      border-radius: 50%;\n",
              "      cursor: pointer;\n",
              "      display: none;\n",
              "      fill: #1967D2;\n",
              "      height: 32px;\n",
              "      padding: 0 0 0 0;\n",
              "      width: 32px;\n",
              "    }\n",
              "\n",
              "    .colab-df-convert:hover {\n",
              "      background-color: #E2EBFA;\n",
              "      box-shadow: 0px 1px 2px rgba(60, 64, 67, 0.3), 0px 1px 3px 1px rgba(60, 64, 67, 0.15);\n",
              "      fill: #174EA6;\n",
              "    }\n",
              "\n",
              "    [theme=dark] .colab-df-convert {\n",
              "      background-color: #3B4455;\n",
              "      fill: #D2E3FC;\n",
              "    }\n",
              "\n",
              "    [theme=dark] .colab-df-convert:hover {\n",
              "      background-color: #434B5C;\n",
              "      box-shadow: 0px 1px 3px 1px rgba(0, 0, 0, 0.15);\n",
              "      filter: drop-shadow(0px 1px 2px rgba(0, 0, 0, 0.3));\n",
              "      fill: #FFFFFF;\n",
              "    }\n",
              "  </style>\n",
              "\n",
              "      <script>\n",
              "        const buttonEl =\n",
              "          document.querySelector('#df-f3a62921-c8c0-482d-b616-9d5f5aeaf528 button.colab-df-convert');\n",
              "        buttonEl.style.display =\n",
              "          google.colab.kernel.accessAllowed ? 'block' : 'none';\n",
              "\n",
              "        async function convertToInteractive(key) {\n",
              "          const element = document.querySelector('#df-f3a62921-c8c0-482d-b616-9d5f5aeaf528');\n",
              "          const dataTable =\n",
              "            await google.colab.kernel.invokeFunction('convertToInteractive',\n",
              "                                                     [key], {});\n",
              "          if (!dataTable) return;\n",
              "\n",
              "          const docLinkHtml = 'Like what you see? Visit the ' +\n",
              "            '<a target=\"_blank\" href=https://colab.research.google.com/notebooks/data_table.ipynb>data table notebook</a>'\n",
              "            + ' to learn more about interactive tables.';\n",
              "          element.innerHTML = '';\n",
              "          dataTable['output_type'] = 'display_data';\n",
              "          await google.colab.output.renderOutput(dataTable, element);\n",
              "          const docLink = document.createElement('div');\n",
              "          docLink.innerHTML = docLinkHtml;\n",
              "          element.appendChild(docLink);\n",
              "        }\n",
              "      </script>\n",
              "    </div>\n",
              "  </div>\n",
              "  "
            ]
          },
          "metadata": {},
          "execution_count": 76
        }
      ]
    },
    {
      "cell_type": "code",
      "source": [
        "# Split Train, test data\n",
        "df_train = df.sample(frac=0.7,random_state=200)\n",
        "df_test = df.drop(df_train.index)\n",
        "print(len(df_train))\n",
        "print(len(df_test))"
      ],
      "metadata": {
        "colab": {
          "base_uri": "https://localhost:8080/"
        },
        "id": "ZRtXh-EsFhMi",
        "outputId": "331f2d8a-9e40-4e6e-9e94-e8939b6fc247"
      },
      "execution_count": null,
      "outputs": [
        {
          "output_type": "stream",
          "name": "stdout",
          "text": [
            "70\n",
            "30\n"
          ]
        }
      ]
    },
    {
      "cell_type": "code",
      "source": [
        "# Fit primal logistic regression\n",
        "param_grid = {'C': [0.1,0.5,1,10,50,100], 'max_iter': [250], 'fit_intercept':[True],'intercept_scaling':[1],\n",
        "              'penalty':['l2'], 'tol':[0.00001,0.0001,0.000001]}\n",
        "log_primal_Grid = GridSearchCV(LogisticRegression(solver='lbfgs'),param_grid, cv=10, refit=True, verbose=0)\n",
        "log_primal_Grid.fit(df_train.loc[:, df_train.columns != 'Divorce'],df_train.Divorce)\n",
        "best_model(log_primal_Grid)"
      ],
      "metadata": {
        "_uuid": "c9d098f114a85b1a9b09aea040c5b01424828e2e",
        "trusted": true,
        "id": "R52_Rba7EeMm",
        "colab": {
          "base_uri": "https://localhost:8080/"
        },
        "outputId": "b2000cf8-ef76-45ca-bef5-d9223e560f26"
      },
      "execution_count": null,
      "outputs": [
        {
          "output_type": "stream",
          "name": "stdout",
          "text": [
            "0.5571428571428572\n",
            "{'C': 50, 'fit_intercept': True, 'intercept_scaling': 1, 'max_iter': 250, 'penalty': 'l2', 'tol': 1e-05}\n",
            "LogisticRegression(C=50, max_iter=250, tol=1e-05)\n"
          ]
        }
      ]
    },
    {
      "cell_type": "code",
      "source": [
        "# Fit logistic regression with degree 2 polynomial kernel\n",
        "param_grid = {'C': [0.1,10,50], 'max_iter': [300,500], 'fit_intercept':[True],'intercept_scaling':[1],'penalty':['l2'],\n",
        "              'tol':[0.0001,0.000001]}\n",
        "poly2 = PolynomialFeatures(degree=2)\n",
        "df_train_pol2 = poly2.fit_transform(df_train.loc[:, df_train.columns != 'Divorce'])\n",
        "log_pol2_Grid = GridSearchCV(LogisticRegression(solver = 'liblinear'),param_grid, cv=5, refit=True, verbose=0)\n",
        "log_pol2_Grid.fit(df_train_pol2,df_train.Divorce)\n",
        "best_model(log_pol2_Grid)"
      ],
      "metadata": {
        "_uuid": "64bbef061fc757e44c849f22c3ed86e637e74ef6",
        "scrolled": true,
        "trusted": true,
        "id": "qwJiSeJMEeMn",
        "colab": {
          "base_uri": "https://localhost:8080/"
        },
        "outputId": "c14d6e92-0a23-426b-e8a7-f6d9b1992eba"
      },
      "execution_count": null,
      "outputs": [
        {
          "output_type": "stream",
          "name": "stdout",
          "text": [
            "0.5857142857142857\n",
            "{'C': 50, 'fit_intercept': True, 'intercept_scaling': 1, 'max_iter': 300, 'penalty': 'l2', 'tol': 0.0001}\n",
            "LogisticRegression(C=50, max_iter=300, solver='liblinear')\n"
          ]
        }
      ]
    },
    {
      "cell_type": "code",
      "source": [
        "# Fit SVM with RBF Kernel\n",
        "param_grid = {'C': [0.5,100,150], 'gamma': [0.1,0.01,0.001],'probability':[True],'kernel': ['rbf']}\n",
        "SVM_grid = GridSearchCV(SVC(), param_grid, cv=3, refit=True, verbose=0)\n",
        "SVM_grid.fit(df_train.loc[:, df_train.columns != 'Divorce'],df_train.Divorce)\n",
        "best_model(SVM_grid)"
      ],
      "metadata": {
        "_uuid": "f6d7877e7ee6667082cdda0c29514d4c2d88287f",
        "trusted": true,
        "id": "dG86bVPiEeMn",
        "colab": {
          "base_uri": "https://localhost:8080/"
        },
        "outputId": "e43509fe-0422-4a14-93ab-8b6948e76c53"
      },
      "execution_count": null,
      "outputs": [
        {
          "output_type": "stream",
          "name": "stdout",
          "text": [
            "0.5428743961352657\n",
            "{'C': 0.5, 'gamma': 0.1, 'kernel': 'rbf', 'probability': True}\n",
            "SVC(C=0.5, gamma=0.1, probability=True)\n"
          ]
        }
      ]
    },
    {
      "cell_type": "code",
      "source": [
        "# Fit SVM with pol kernel\n",
        "param_grid = {'C': [0.5,1,10,50,100], 'gamma': [0.1,0.01,0.001],'probability':[True],'kernel': ['poly'],'degree':[2,3] }\n",
        "SVM_grid = GridSearchCV(SVC(), param_grid, cv=3, refit=True, verbose=0)\n",
        "SVM_grid.fit(df_train.loc[:, df_train.columns != 'Divorce'],df_train.Divorce)\n",
        "best_model(SVM_grid)"
      ],
      "metadata": {
        "_uuid": "233f559b9c40a91fc5ed6755761211e567cac669",
        "scrolled": true,
        "trusted": true,
        "id": "bAftHMBjEeMn",
        "colab": {
          "base_uri": "https://localhost:8080/"
        },
        "outputId": "396ea885-0582-4651-cbe8-ae03bc552797"
      },
      "execution_count": null,
      "outputs": [
        {
          "output_type": "stream",
          "name": "stdout",
          "text": [
            "0.5428743961352657\n",
            "{'C': 0.5, 'degree': 2, 'gamma': 0.1, 'kernel': 'poly', 'probability': True}\n",
            "SVC(C=0.5, degree=2, gamma=0.1, kernel='poly', probability=True)\n"
          ]
        }
      ]
    },
    {
      "cell_type": "code",
      "source": [
        "# Fit random forest classifier\n",
        "param_grid = {'max_depth': [3, 5, 6, 7, 8], 'max_features': [2,4,6,7,8,9],'n_estimators':[50,100],'min_samples_split': [3, 5, 6, 7]}\n",
        "RanFor_grid = GridSearchCV(RandomForestClassifier(), param_grid, cv=5, refit=True, verbose=0)\n",
        "RanFor_grid.fit(df_train.loc[:, df_train.columns != 'Divorce'],df_train.Divorce)\n",
        "best_model(RanFor_grid)"
      ],
      "metadata": {
        "_uuid": "58b62114793f6731f2077069351dcd1476c13a7b",
        "scrolled": true,
        "trusted": true,
        "id": "utjM1jj7EeMn",
        "colab": {
          "base_uri": "https://localhost:8080/"
        },
        "outputId": "cebf3dc6-ec91-4685-a4af-d6d1cce290ca"
      },
      "execution_count": null,
      "outputs": [
        {
          "output_type": "stream",
          "name": "stdout",
          "text": [
            "0.6285714285714287\n",
            "{'max_depth': 6, 'max_features': 9, 'min_samples_split': 5, 'n_estimators': 100}\n",
            "RandomForestClassifier(max_depth=6, max_features=9, min_samples_split=5)\n"
          ]
        }
      ]
    },
    {
      "cell_type": "code",
      "source": [
        "# Fit Extreme Gradient boosting classifier\n",
        "param_grid = {'max_depth': [5,6,7,8], 'gamma': [0.01,0.001,0.001],'min_child_weight':[1,5,10], 'learning_rate': [0.05,0.1, 0.2, 0.3], 'n_estimators':[5,10,20,100]}\n",
        "xgb_grid = GridSearchCV(XGBClassifier(), param_grid, cv=5, refit=True, verbose=0)\n",
        "xgb_grid.fit(df_train.loc[:, df_train.columns != 'Divorce'],df_train.Divorce)\n",
        "best_model(xgb_grid)"
      ],
      "metadata": {
        "_uuid": "4ecb43daf32db29a35e72dbc28c5c5199494493e",
        "trusted": true,
        "id": "8QEFhxXBEeMn",
        "colab": {
          "base_uri": "https://localhost:8080/"
        },
        "outputId": "152949b1-c076-42fa-b4de-feed7d97af8f"
      },
      "execution_count": null,
      "outputs": [
        {
          "output_type": "stream",
          "name": "stdout",
          "text": [
            "0.6857142857142857\n",
            "{'gamma': 0.01, 'learning_rate': 0.05, 'max_depth': 5, 'min_child_weight': 1, 'n_estimators': 5}\n",
            "XGBClassifier(gamma=0.01, learning_rate=0.05, max_depth=5, n_estimators=5)\n"
          ]
        }
      ]
    },
    {
      "cell_type": "code",
      "source": [
        "# Fit primal logistic regression\n",
        "log_primal = LogisticRegression(C=100, class_weight=None, dual=False, fit_intercept=True,intercept_scaling=1, max_iter=250,n_jobs=None, \n",
        "                                penalty='l2', random_state=None, solver='lbfgs',tol=1e-05, verbose=0, warm_start=False)\n",
        "log_primal.fit(df_train.loc[:, df_train.columns != 'Divorce'],df_train.Divorce)"
      ],
      "metadata": {
        "_uuid": "21507a649919e4d12713d2af55a92424eb0db727",
        "trusted": true,
        "id": "IGuVd-nHEeMo",
        "colab": {
          "base_uri": "https://localhost:8080/"
        },
        "outputId": "175628d1-2b63-42d4-e3a6-92e1e4ecd53d"
      },
      "execution_count": null,
      "outputs": [
        {
          "output_type": "execute_result",
          "data": {
            "text/plain": [
              "LogisticRegression(C=100, max_iter=250, tol=1e-05)"
            ]
          },
          "metadata": {},
          "execution_count": 84
        }
      ]
    },
    {
      "cell_type": "code",
      "source": [
        "# Fit logistic regression with pol 2 kernel\n",
        "poly2 = PolynomialFeatures(degree=2)\n",
        "df_train_pol2 = poly2.fit_transform(df_train.loc[:, df_train.columns != 'Divorce'])\n",
        "log_pol2 = LogisticRegression(C=10, class_weight=None, dual=False, fit_intercept=True,intercept_scaling=1, max_iter=300, n_jobs=None, \n",
        "                              penalty='l2', random_state=None, solver='liblinear',tol=0.0001, verbose=0, warm_start=False)\n",
        "log_pol2.fit(df_train_pol2,df_train.Divorce)"
      ],
      "metadata": {
        "_uuid": "ba3352d570192e54799310d5a6a46d93997d9f8c",
        "trusted": true,
        "id": "Qnkt6p-DEeMo",
        "colab": {
          "base_uri": "https://localhost:8080/"
        },
        "outputId": "77a32fa2-9b93-45d5-e1e6-ee718cb1200f"
      },
      "execution_count": null,
      "outputs": [
        {
          "output_type": "execute_result",
          "data": {
            "text/plain": [
              "LogisticRegression(C=10, max_iter=300, solver='liblinear')"
            ]
          },
          "metadata": {},
          "execution_count": 85
        }
      ]
    },
    {
      "cell_type": "code",
      "source": [
        "# Fit SVM with RBF Kernel\n",
        "SVM_RBF = SVC(C=100, cache_size=200, class_weight=None, coef0=0.0, decision_function_shape='ovr', degree=3, gamma=0.1, kernel='rbf', max_iter=-1, probability=True, \n",
        "              random_state=None, shrinking=True,tol=0.001, verbose=False)\n",
        "SVM_RBF.fit(df_train.loc[:, df_train.columns != 'Divorce'],df_train.Divorce)"
      ],
      "metadata": {
        "_uuid": "4eafde7d53cee0a3c7a003e40d906e46aef368a9",
        "trusted": true,
        "id": "6VkzSA3nEeMo",
        "colab": {
          "base_uri": "https://localhost:8080/"
        },
        "outputId": "998fd23a-95c9-4041-bd06-b37bc61429ee"
      },
      "execution_count": null,
      "outputs": [
        {
          "output_type": "execute_result",
          "data": {
            "text/plain": [
              "SVC(C=100, gamma=0.1, probability=True)"
            ]
          },
          "metadata": {},
          "execution_count": 86
        }
      ]
    },
    {
      "cell_type": "code",
      "source": [
        "# Fit SVM with Pol Kernel\n",
        "SVM_POL = SVC(C=100, cache_size=200, class_weight=None, coef0=0.0,  decision_function_shape='ovr', degree=2, gamma=0.1, kernel='poly',  max_iter=-1,\n",
        "              probability=True, random_state=None, shrinking=True, tol=0.001, verbose=False)\n",
        "SVM_POL.fit(df_train.loc[:, df_train.columns != 'Divorce'],df_train.Divorce)"
      ],
      "metadata": {
        "_uuid": "7ab4fcbc6c206724657b8c47bab04e43bf2717dd",
        "trusted": true,
        "id": "EUiJxhlAEeMo",
        "colab": {
          "base_uri": "https://localhost:8080/"
        },
        "outputId": "c2225430-7d87-4186-acf0-f4dcb898728a"
      },
      "execution_count": null,
      "outputs": [
        {
          "output_type": "execute_result",
          "data": {
            "text/plain": [
              "SVC(C=100, degree=2, gamma=0.1, kernel='poly', probability=True)"
            ]
          },
          "metadata": {},
          "execution_count": 87
        }
      ]
    },
    {
      "cell_type": "code",
      "source": [
        "# Fit Random Forest classifier\n",
        "RF = RandomForestClassifier(bootstrap=True, class_weight=None, criterion='gini',max_depth=8, max_features=6, max_leaf_nodes=None,min_impurity_decrease=0.0,\n",
        "                        min_samples_leaf=1, min_samples_split=3,min_weight_fraction_leaf=0.0, n_estimators=50, n_jobs=None,\n",
        "                            oob_score=False, random_state=None, verbose=0,warm_start=False)\n",
        "RF.fit(df_train.loc[:, df_train.columns != 'Divorce'],df_train.Divorce)"
      ],
      "metadata": {
        "_uuid": "752a44897ee6042ff11cc6c1a8d39c5e8271b1ff",
        "trusted": true,
        "id": "IPeRgW9jEeMo",
        "colab": {
          "base_uri": "https://localhost:8080/"
        },
        "outputId": "205a29b6-e985-4086-de3f-ac5b1386fd52"
      },
      "execution_count": null,
      "outputs": [
        {
          "output_type": "execute_result",
          "data": {
            "text/plain": [
              "RandomForestClassifier(max_depth=8, max_features=6, min_samples_split=3,\n",
              "                       n_estimators=50)"
            ]
          },
          "metadata": {},
          "execution_count": 88
        }
      ]
    },
    {
      "cell_type": "code",
      "source": [
        "# Fit Extreme Gradient Boost Classifier\n",
        "XGB = XGBClassifier(base_score=0.5, booster='gbtree', colsample_bylevel=1,colsample_bytree=1, gamma=0.01, learning_rate=0.1, max_delta_step=0,max_depth=7,\n",
        "                    min_child_weight=5, missing=None, n_estimators=20,n_jobs=1, nthread=None, objective='binary:logistic', random_state=0,reg_alpha=0, \n",
        "                    reg_lambda=1, scale_pos_weight=1, seed=None, silent=True, subsample=1)\n",
        "XGB.fit(df_train.loc[:, df_train.columns != 'Divorce'],df_train.Divorce)"
      ],
      "metadata": {
        "_uuid": "1ab0490108f82d2a483d545abc8b1404a3f4aad2",
        "trusted": true,
        "id": "ttpLrKdJEeMp",
        "colab": {
          "base_uri": "https://localhost:8080/"
        },
        "outputId": "2394582f-1209-4f5d-8778-1aab678303d7"
      },
      "execution_count": null,
      "outputs": [
        {
          "output_type": "execute_result",
          "data": {
            "text/plain": [
              "XGBClassifier(gamma=0.01, max_depth=7, min_child_weight=5, n_estimators=20,\n",
              "              silent=True)"
            ]
          },
          "metadata": {},
          "execution_count": 89
        }
      ]
    },
    {
      "cell_type": "markdown",
      "source": [
        "### Review best model fit accuracy : Keen interest is on the performance in predicting 1's (people who divorsed)"
      ],
      "metadata": {
        "_uuid": "9942f20275d7215c32f3f1710965255a5913b52d",
        "id": "R2GyC2sREeMp"
      }
    },
    {
      "cell_type": "code",
      "source": [
        "print(classification_report(df_train.Divorce, log_primal.predict(df_train.loc[:, df_train.columns != 'Divorce'])))"
      ],
      "metadata": {
        "scrolled": true,
        "_uuid": "0ed95314fa4e94af962872456215d5066a6c1af3",
        "trusted": true,
        "id": "TQ6Ka5W3EeMp",
        "colab": {
          "base_uri": "https://localhost:8080/"
        },
        "outputId": "3ddfbd14-e176-48ed-94bd-475d28b16041"
      },
      "execution_count": null,
      "outputs": [
        {
          "output_type": "stream",
          "name": "stdout",
          "text": [
            "              precision    recall  f1-score   support\n",
            "\n",
            "           0       0.79      0.72      0.75        32\n",
            "           1       0.78      0.84      0.81        38\n",
            "\n",
            "    accuracy                           0.79        70\n",
            "   macro avg       0.79      0.78      0.78        70\n",
            "weighted avg       0.79      0.79      0.78        70\n",
            "\n"
          ]
        }
      ]
    },
    {
      "cell_type": "code",
      "source": [
        "print(classification_report(df_train.Divorce,  log_pol2.predict(df_train_pol2)))"
      ],
      "metadata": {
        "colab": {
          "base_uri": "https://localhost:8080/"
        },
        "id": "NIotjatyNmpd",
        "outputId": "14b9283f-ddd7-4827-c2fb-6619cde620bd"
      },
      "execution_count": null,
      "outputs": [
        {
          "output_type": "stream",
          "name": "stdout",
          "text": [
            "              precision    recall  f1-score   support\n",
            "\n",
            "           0       1.00      1.00      1.00        32\n",
            "           1       1.00      1.00      1.00        38\n",
            "\n",
            "    accuracy                           1.00        70\n",
            "   macro avg       1.00      1.00      1.00        70\n",
            "weighted avg       1.00      1.00      1.00        70\n",
            "\n"
          ]
        }
      ]
    },
    {
      "cell_type": "code",
      "source": [
        "print(classification_report(df_train.Divorce,  SVM_RBF.predict(df_train.loc[:, df_train.columns != 'Divorce'])))"
      ],
      "metadata": {
        "_uuid": "94df747a963e4f7497d683d7079d48912b19e2cf",
        "scrolled": true,
        "trusted": true,
        "id": "G2ynn3KvEeMp",
        "colab": {
          "base_uri": "https://localhost:8080/"
        },
        "outputId": "78499bea-ee80-4aae-a13d-72589ee0e867"
      },
      "execution_count": null,
      "outputs": [
        {
          "output_type": "stream",
          "name": "stdout",
          "text": [
            "              precision    recall  f1-score   support\n",
            "\n",
            "           0       1.00      1.00      1.00        32\n",
            "           1       1.00      1.00      1.00        38\n",
            "\n",
            "    accuracy                           1.00        70\n",
            "   macro avg       1.00      1.00      1.00        70\n",
            "weighted avg       1.00      1.00      1.00        70\n",
            "\n"
          ]
        }
      ]
    },
    {
      "cell_type": "code",
      "source": [
        "print(classification_report(df_train.Divorce,  SVM_POL.predict(df_train.loc[:, df_train.columns != 'Divorce'])))"
      ],
      "metadata": {
        "_uuid": "82c9f77ac9c3056f1ff1a87afdf06c6817551f53",
        "trusted": true,
        "id": "TwD6hJXFEeMq",
        "colab": {
          "base_uri": "https://localhost:8080/"
        },
        "outputId": "7e330a77-67dd-4358-a779-6623ef66fa25"
      },
      "execution_count": null,
      "outputs": [
        {
          "output_type": "stream",
          "name": "stdout",
          "text": [
            "              precision    recall  f1-score   support\n",
            "\n",
            "           0       1.00      1.00      1.00        32\n",
            "           1       1.00      1.00      1.00        38\n",
            "\n",
            "    accuracy                           1.00        70\n",
            "   macro avg       1.00      1.00      1.00        70\n",
            "weighted avg       1.00      1.00      1.00        70\n",
            "\n"
          ]
        }
      ]
    },
    {
      "cell_type": "code",
      "source": [
        "print(classification_report(df_train.Divorce,  RF.predict(df_train.loc[:, df_train.columns != 'Divorce'])))"
      ],
      "metadata": {
        "_uuid": "ed185f981ae24a9c20546adb3591f39ffd978f95",
        "trusted": true,
        "id": "q6j3y-PIEeMq",
        "colab": {
          "base_uri": "https://localhost:8080/"
        },
        "outputId": "b4bb8909-0b83-467a-b2c5-588e9ca89dca"
      },
      "execution_count": null,
      "outputs": [
        {
          "output_type": "stream",
          "name": "stdout",
          "text": [
            "              precision    recall  f1-score   support\n",
            "\n",
            "           0       1.00      1.00      1.00        32\n",
            "           1       1.00      1.00      1.00        38\n",
            "\n",
            "    accuracy                           1.00        70\n",
            "   macro avg       1.00      1.00      1.00        70\n",
            "weighted avg       1.00      1.00      1.00        70\n",
            "\n"
          ]
        }
      ]
    },
    {
      "cell_type": "code",
      "source": [
        "print(classification_report(df_train.Divorce,  XGB.predict(df_train.loc[:, df_train.columns != 'Divorce'])))"
      ],
      "metadata": {
        "_uuid": "006125a382a9f74e1984dd79232e1b2ca3badf7c",
        "trusted": true,
        "id": "1ig90lGMEeMq",
        "colab": {
          "base_uri": "https://localhost:8080/"
        },
        "outputId": "23318187-a2b3-442b-b3ee-54e401656b29"
      },
      "execution_count": null,
      "outputs": [
        {
          "output_type": "stream",
          "name": "stdout",
          "text": [
            "              precision    recall  f1-score   support\n",
            "\n",
            "           0       0.80      0.75      0.77        32\n",
            "           1       0.80      0.84      0.82        38\n",
            "\n",
            "    accuracy                           0.80        70\n",
            "   macro avg       0.80      0.80      0.80        70\n",
            "weighted avg       0.80      0.80      0.80        70\n",
            "\n"
          ]
        }
      ]
    },
    {
      "cell_type": "code",
      "source": [
        "y = df_train.Divorce\n",
        "X = df_train.loc[:, df_train.columns != 'Divorce']\n",
        "X_pol2 = df_train_pol2\n",
        "auc_log_primal, fpr_log_primal, tpr_log_primal = get_auc_scores(y, log_primal.predict(X),log_primal.predict_proba(X)[:,1])\n",
        "auc_log_pol2, fpr_log_pol2, tpr_log_pol2 = get_auc_scores(y, log_pol2.predict(X_pol2),log_pol2.predict_proba(X_pol2)[:,1])\n",
        "auc_SVM_RBF, fpr_SVM_RBF, tpr_SVM_RBF = get_auc_scores(y, SVM_RBF.predict(X),SVM_RBF.predict_proba(X)[:,1])\n",
        "auc_SVM_POL, fpr_SVM_POL, tpr_SVM_POL = get_auc_scores(y, SVM_POL.predict(X),SVM_POL.predict_proba(X)[:,1])\n",
        "auc_RF, fpr_RF, tpr_RF = get_auc_scores(y, RF.predict(X),RF.predict_proba(X)[:,1])\n",
        "auc_XGB, fpr_XGB, tpr_XGB = get_auc_scores(y, XGB.predict(X),XGB.predict_proba(X)[:,1])"
      ],
      "metadata": {
        "_uuid": "ee62c938db15f2ed86b4d5b7eadf39907f12fea3",
        "trusted": true,
        "id": "GdxrhVpNEeMq"
      },
      "execution_count": null,
      "outputs": []
    },
    {
      "cell_type": "code",
      "source": [
        "plt.figure(figsize = (12,6), linewidth= 1)\n",
        "plt.plot(fpr_log_primal, tpr_log_primal, label = 'log primal Score: ' + str(round(auc_log_primal, 5)))\n",
        "plt.plot(fpr_log_pol2, tpr_log_pol2, label = 'log pol2 score: ' + str(round(auc_log_pol2, 5)))\n",
        "plt.plot(fpr_SVM_RBF, tpr_SVM_RBF, label = 'SVM RBF Score: ' + str(round(auc_SVM_RBF, 5)))\n",
        "plt.plot(fpr_SVM_POL, tpr_SVM_POL, label = 'SVM POL Score: ' + str(round(auc_SVM_POL, 5)))\n",
        "plt.plot(fpr_RF, tpr_RF, label = 'RF score: ' + str(round(auc_RF, 5)))\n",
        "plt.plot(fpr_XGB, tpr_XGB, label = 'XGB score: ' + str(round(auc_XGB, 5)))\n",
        "plt.plot([0,1], [0,1], 'k--', label = 'Random: 0.5')\n",
        "plt.xlabel('False positive rate')\n",
        "plt.ylabel('True positive rate')\n",
        "plt.title('ROC Curve')\n",
        "plt.legend(loc='best')\n",
        "#plt.savefig('roc_results_ratios.png')\n",
        "plt.show()"
      ],
      "metadata": {
        "_uuid": "90959dfd1217f240ea0c6186f4a4cbdbc65cd10b",
        "trusted": true,
        "id": "OvZnlLJ-EeMq",
        "colab": {
          "base_uri": "https://localhost:8080/",
          "height": 410
        },
        "outputId": "3bbfe646-87b7-4b84-e8ac-82d1b65a957d"
      },
      "execution_count": null,
      "outputs": [
        {
          "output_type": "display_data",
          "data": {
            "text/plain": [
              "<Figure size 864x432 with 1 Axes>"
            ],
            "image/png": "[encoded data removed]"
          },
          "metadata": {}
        }
      ]
    },
    {
      "cell_type": "code",
      "source": [
        "plt.figure(figsize=(4,3))\n",
        "sns.heatmap(confusion_matrix(df_train.Divorce,  RF.predict(df_train.loc[:, df_train.columns != 'Divorce'])),\n",
        "                annot=True,fmt = \"d\",linecolor=\"k\",linewidths=3)\n",
        "    \n",
        "plt.title(\"RANDOM FOREST CONFUSION MATRIX\",fontsize=14)\n",
        "plt.show()"
      ],
      "metadata": {
        "colab": {
          "base_uri": "https://localhost:8080/",
          "height": 230
        },
        "id": "jpIn9to-06U2",
        "outputId": "f7f83df0-5dac-44e2-b216-5b59825ece5c"
      },
      "execution_count": null,
      "outputs": [
        {
          "output_type": "display_data",
          "data": {
            "text/plain": [
              "<Figure size 288x216 with 2 Axes>"
            ],
            "image/png": "[encoded data removed]"
          },
          "metadata": {}
        }
      ]
    },
    {
      "cell_type": "markdown",
      "source": [
        "### Model prediction accuracy on test data"
      ],
      "metadata": {
        "_uuid": "6fa3b656a447560bac183dc3db383d1afbe698e6",
        "id": "J6OrH3VjEeMr"
      }
    },
    {
      "cell_type": "code",
      "source": [
        "# Make the data transformation for test data\n",
        "df_test.shape"
      ],
      "metadata": {
        "_uuid": "f82f97fbfa4c648241202aeaa90298ab3f578a08",
        "trusted": true,
        "id": "FE2YvSuNEeMr",
        "colab": {
          "base_uri": "https://localhost:8080/"
        },
        "outputId": "9fc5c6b5-84c0-4a44-a52b-f33a35b3159d"
      },
      "execution_count": null,
      "outputs": [
        {
          "output_type": "execute_result",
          "data": {
            "text/plain": [
              "(30, 30)"
            ]
          },
          "metadata": {},
          "execution_count": 98
        }
      ]
    },
    {
      "cell_type": "code",
      "source": [
        "# Fit logistic regression with pol 2 kernel\n",
        "poly2 = PolynomialFeatures(degree=2)\n",
        "df_test_pol2 = poly2.fit_transform(df_test.loc[:, df_test.columns != 'Divorce'])\n",
        "log_pol2 = LogisticRegression(C=10, class_weight=None, dual=False, fit_intercept=True,intercept_scaling=1, max_iter=300, n_jobs=None, \n",
        "                              penalty='l2', random_state=None, solver='liblinear',tol=0.0001, verbose=0, warm_start=False)\n",
        "log_pol2.fit(df_test_pol2,df_test.Divorce)"
      ],
      "metadata": {
        "_uuid": "ba3352d570192e54799310d5a6a46d93997d9f8c",
        "trusted": true,
        "colab": {
          "base_uri": "https://localhost:8080/"
        },
        "outputId": "aa99609c-c2c2-499c-aa6c-454a341bf43a",
        "id": "2Daac_MOKmIA"
      },
      "execution_count": null,
      "outputs": [
        {
          "output_type": "execute_result",
          "data": {
            "text/plain": [
              "LogisticRegression(C=10, max_iter=300, solver='liblinear')"
            ]
          },
          "metadata": {},
          "execution_count": 99
        }
      ]
    },
    {
      "cell_type": "code",
      "source": [
        "y = df_test.Divorce\n",
        "X = df_test.loc[:, df_train.columns != 'Divorce']\n",
        "X_pol2 = df_test_pol2\n",
        "auc_log_primal, fpr_log_primal, tpr_log_primal = get_auc_scores(y, log_primal.predict(X),log_primal.predict_proba(X)[:,1])\n",
        "auc_log_pol2, fpr_log_pol2, tpr_log_pol2 = get_auc_scores(y, log_pol2.predict(X_pol2),log_pol2.predict_proba(X_pol2)[:,1])\n",
        "auc_SVM_RBF, fpr_SVM_RBF, tpr_SVM_RBF = get_auc_scores(y, SVM_RBF.predict(X),SVM_RBF.predict_proba(X)[:,1])\n",
        "auc_SVM_POL, fpr_SVM_POL, tpr_SVM_POL = get_auc_scores(y, SVM_POL.predict(X),SVM_POL.predict_proba(X)[:,1])\n",
        "auc_RF, fpr_RF, tpr_RF = get_auc_scores(y, RF.predict(X),RF.predict_proba(X)[:,1])\n",
        "auc_XGB, fpr_XGB, tpr_XGB = get_auc_scores(y, XGB.predict(X),XGB.predict_proba(X)[:,1])"
      ],
      "metadata": {
        "_uuid": "ee62c938db15f2ed86b4d5b7eadf39907f12fea3",
        "trusted": true,
        "id": "5KKr8VKDJ5TA"
      },
      "execution_count": null,
      "outputs": []
    },
    {
      "cell_type": "code",
      "source": [
        "plt.figure(figsize = (12,6), linewidth= 1)\n",
        "plt.plot(fpr_log_primal, tpr_log_primal, label = 'log primal Score: ' + str(round(auc_log_primal, 5)))\n",
        "plt.plot(fpr_log_pol2, tpr_log_pol2, label = 'log pol2 score: ' + str(round(auc_log_pol2, 5)))\n",
        "plt.plot(fpr_SVM_RBF, tpr_SVM_RBF, label = 'SVM RBF Score: ' + str(round(auc_SVM_RBF, 5)))\n",
        "plt.plot(fpr_SVM_POL, tpr_SVM_POL, label = 'SVM POL Score: ' + str(round(auc_SVM_POL, 5)))\n",
        "plt.plot(fpr_RF, tpr_RF, label = 'RF score: ' + str(round(auc_RF, 5)))\n",
        "plt.plot(fpr_XGB, tpr_XGB, label = 'XGB score: ' + str(round(auc_XGB, 5)))\n",
        "plt.plot([0,1], [0,1], 'k--', label = 'Random: 0.5')\n",
        "plt.xlabel('False positive rate')\n",
        "plt.ylabel('True positive rate')\n",
        "plt.title('ROC Curve')\n",
        "plt.legend(loc='best')\n",
        "#plt.savefig('roc_results_ratios.png')\n",
        "plt.show()"
      ],
      "metadata": {
        "_uuid": "90959dfd1217f240ea0c6186f4a4cbdbc65cd10b",
        "trusted": true,
        "colab": {
          "base_uri": "https://localhost:8080/",
          "height": 410
        },
        "outputId": "820e7eb0-1ba9-499c-f455-6a74ea69d1ee",
        "id": "ePXryOS4J5TE"
      },
      "execution_count": null,
      "outputs": [
        {
          "output_type": "display_data",
          "data": {
            "text/plain": [
              "<Figure size 864x432 with 1 Axes>"
            ],
            "image/png": "[encoded data removed]"
          },
          "metadata": {}
        }
      ]
    },
    {
      "cell_type": "code",
      "source": [
        "print(classification_report(df_test.Divorce,  log_pol2.predict(df_test_pol2)))"
      ],
      "metadata": {
        "_uuid": "a11d94c7595e8d043abee844f2d5d3f74c7d6750",
        "trusted": true,
        "id": "k4bqH0xyEeMr",
        "colab": {
          "base_uri": "https://localhost:8080/"
        },
        "outputId": "4c726a40-a476-4b5c-b3e3-4238f6360933"
      },
      "execution_count": null,
      "outputs": [
        {
          "output_type": "stream",
          "name": "stdout",
          "text": [
            "              precision    recall  f1-score   support\n",
            "\n",
            "           0       1.00      1.00      1.00        13\n",
            "           1       1.00      1.00      1.00        17\n",
            "\n",
            "    accuracy                           1.00        30\n",
            "   macro avg       1.00      1.00      1.00        30\n",
            "weighted avg       1.00      1.00      1.00        30\n",
            "\n"
          ]
        }
      ]
    },
    {
      "cell_type": "code",
      "source": [
        "plt.figure(figsize=(4,3))\n",
        "sns.heatmap(confusion_matrix(df_test.Divorce,  log_pol2.predict(df_test_pol2)),\n",
        "                annot=True,fmt = \"d\",linecolor=\"k\",linewidths=3)\n",
        "    \n",
        "plt.title(\"LOGISTIC REGRESSION WITH POLYNOMIAL 2 CONFUSION MATRIX\",fontsize=14)\n",
        "plt.show()"
      ],
      "metadata": {
        "colab": {
          "base_uri": "https://localhost:8080/",
          "height": 230
        },
        "id": "ToUYZQOtrnrc",
        "outputId": "5ccc97bc-5d21-47f5-edb2-426138668cf6"
      },
      "execution_count": null,
      "outputs": [
        {
          "output_type": "display_data",
          "data": {
            "text/plain": [
              "<Figure size 288x216 with 2 Axes>"
            ],
            "image/png": "[encoded data removed]"
          },
          "metadata": {}
        }
      ]
    },
    {
      "cell_type": "markdown",
      "source": [
        "#Conclusion:\n",
        "In this study, we explored the Kaggle marriage and divorce dataset.\n",
        "We begin by understanding the data and the attributes. We performed exploratory data analysis, which included feature selection, feature importance, normalisation, and data visualisation. We found out that loyalty and education are the most important features for divorce. After that, we preprocessed the data to ensure that our model had good accuracy and recall scores. To predict who will get divorced, we have tested a variety of models. The ROC curve for each model was then plotted in order to better understand behavioural patterns. For the both Training and Testing Data set, we have plotted the ROC curve.\n",
        "But in this case, we are amazed to realise that Random Forest is giving us 100% accuracy on the training dataset. But using Random Forest, our accuracy on the testing dataset is only about 50%, but using logistic regression with the kernel polynomial degree 2, our accuracy is 100%. So finally we will be using logistic regression with the kernel polynomial degree 2 model for Divorce prediction.Our dataset was very small so we can not generalise this for any new dataset. the results may vary and have to be revised again.\n"
      ],
      "metadata": {
        "id": "BvSupMgJC7Qx"
      }
    }
  ]
}